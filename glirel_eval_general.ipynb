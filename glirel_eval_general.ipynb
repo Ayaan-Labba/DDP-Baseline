{
 "cells": [
  {
   "cell_type": "markdown",
   "id": "1b6ebf87",
   "metadata": {},
   "source": [
    "# GLiREL RE Evaluation on Common Datasets"
   ]
  },
  {
   "cell_type": "markdown",
   "id": "bddfe680",
   "metadata": {},
   "source": [
    "## NYT"
   ]
  },
  {
   "cell_type": "markdown",
   "id": "5179a92f",
   "metadata": {},
   "source": [
    "### Data Preprocessing"
   ]
  },
  {
   "cell_type": "code",
   "execution_count": null,
   "id": "ad2f0a51",
   "metadata": {},
   "outputs": [],
   "source": [
    "import json\n",
    "import random"
   ]
  },
  {
   "cell_type": "code",
   "execution_count": null,
   "id": "51c18adc",
   "metadata": {},
   "outputs": [],
   "source": [
    "# Step 1: Load JSONL\n",
    "def load_nyt_dataset(path):\n",
    "    with open(path, 'r', encoding='utf-8') as f:\n",
    "        return [json.loads(line) for line in f]"
   ]
  },
  {
   "cell_type": "code",
   "execution_count": null,
   "id": "ba78566b",
   "metadata": {},
   "outputs": [
    {
     "name": "stdout",
     "output_type": "stream",
     "text": [
      "{'ner': [[11, 12, 'LOCATION', 'Annandale-on-Hudson'], [8, 10, 'ORGANIZATION', 'Bard College']], 'relations': [{'head': {'mention': 'Annandale-on-Hudson', 'position': [11, 12], 'type': 'LOCATION'}, 'tail': {'mention': 'Bard College', 'position': [8, 10], 'type': 'ORGANIZATION'}, 'relation_text': 'contains'}], 'tokenized_text': ['Massachusetts', 'ASTON', 'MAGNA', 'Great', 'Barrington', ';', 'also', 'at', 'Bard', 'College', ',', 'Annandale-on-Hudson', ',', 'N.Y.', ',', 'July', '1-Aug', '.']}\n"
     ]
    }
   ],
   "source": [
    "nyt_data = load_nyt_dataset(\"data/nyt_data.jsonl\")\n",
    "\n",
    "# Inspect first example\n",
    "example = nyt_data[0]\n",
    "print(example)"
   ]
  },
  {
   "cell_type": "code",
   "execution_count": null,
   "id": "78f0f3a1",
   "metadata": {},
   "outputs": [],
   "source": [
    "# Extract unique labels across dataset\n",
    "def get_all_relation_labels(dataset):\n",
    "    labels = set()\n",
    "    for item in dataset:\n",
    "        for rel in item[\"relations\"]:\n",
    "            labels.add(rel[\"relation_text\"])\n",
    "    return sorted(labels)"
   ]
  },
  {
   "cell_type": "code",
   "execution_count": null,
   "id": "c2950f20",
   "metadata": {},
   "outputs": [
    {
     "name": "stdout",
     "output_type": "stream",
     "text": [
      "Relation Labels: ['administrative_divisions', 'advisors', 'capital', 'children', 'company', 'contains', 'country', 'ethnicity', 'founders', 'geographic_distribution', 'industry', 'location', 'major_shareholder_of', 'major_shareholders', 'nationality', 'neighborhood_of', 'people', 'place_founded', 'place_lived', 'place_of_birth', 'place_of_death', 'profession', 'religion', 'teams']\n",
      "Number of Relation Labels: 24\n"
     ]
    }
   ],
   "source": [
    "relation_labels = get_all_relation_labels(nyt_data)\n",
    "print(\"Relation Labels:\", relation_labels)\n",
    "print(\"Number of Relation Labels:\", len(relation_labels))"
   ]
  },
  {
   "cell_type": "code",
   "execution_count": null,
   "id": "9e85830c",
   "metadata": {},
   "outputs": [],
   "source": [
    "def save_jsonl(data, path):\n",
    "    with open(path, 'w', encoding='utf-8') as f:\n",
    "        for item in data:\n",
    "            f.write(json.dumps(item) + '\\n')"
   ]
  },
  {
   "cell_type": "code",
   "execution_count": null,
   "id": "4ce4aa33",
   "metadata": {},
   "outputs": [],
   "source": [
    "# Shuffle for randomness\n",
    "random.seed(42)\n",
    "random.shuffle(nyt_data)\n",
    "\n",
    "# Take 10% as test data\n",
    "test_size = int(0.10 * len(nyt_data))\n",
    "test_data = nyt_data[:test_size]"
   ]
  },
  {
   "cell_type": "code",
   "execution_count": null,
   "id": "74a8b818",
   "metadata": {},
   "outputs": [
    {
     "name": "stdout",
     "output_type": "stream",
     "text": [
      "Saved 5619 samples to 'data/nyt_test_10pct.jsonl'\n"
     ]
    }
   ],
   "source": [
    "# Save to new file\n",
    "save_jsonl(test_data, \"data/nyt_test_10pct.jsonl\")\n",
    "\n",
    "print(f\"Saved {len(test_data)} samples to 'data/nyt_test_10pct.jsonl'\")"
   ]
  },
  {
   "cell_type": "code",
   "execution_count": null,
   "id": "85320d97",
   "metadata": {},
   "outputs": [],
   "source": [
    "def prepare_glirel_input(ex):\n",
    "    tokens = ex[\"tokenized_text\"]\n",
    "    \n",
    "    # 1. Inclusive NER\n",
    "    ner = [[span[0], span[1]-1, span[2], span[3]] for span in ex[\"ner\"]]\n",
    "\n",
    "    # 2. Gold relations as set\n",
    "    gold_set = set()\n",
    "    for rel in ex['relations']:\n",
    "        head = rel[\"head\"][\"position\"]\n",
    "        tail = rel[\"tail\"][\"position\"]\n",
    "        relation = rel[\"relation_text\"]\n",
    "\n",
    "        head_span = (head[0], head[1])\n",
    "        tail_span = (tail[0], tail[1])\n",
    "\n",
    "        gold_set.add((head_span, tail_span, relation))\n",
    "\n",
    "    return {\n",
    "        \"tokens\": tokens,\n",
    "        \"ner\": ner,\n",
    "        \"gold_relations\": gold_set\n",
    "    }"
   ]
  },
  {
   "cell_type": "code",
   "execution_count": null,
   "id": "162d7d89",
   "metadata": {},
   "outputs": [],
   "source": [
    "# Apply to dataset\n",
    "prepared_dataset = [prepare_glirel_input(ex) for ex in test_data]"
   ]
  },
  {
   "cell_type": "code",
   "execution_count": null,
   "id": "08f76a08",
   "metadata": {},
   "outputs": [],
   "source": [
    "# Inspect one example\n",
    "from pprint import pprint"
   ]
  },
  {
   "cell_type": "code",
   "execution_count": null,
   "id": "6ea0a158",
   "metadata": {},
   "outputs": [
    {
     "name": "stdout",
     "output_type": "stream",
     "text": [
      "{'gold_relations': {((50, 51), (43, 45), 'contains')},\n",
      " 'ner': [[50, 50, 'LOCATION', 'Iraq'], [43, 44, 'PERSON', 'Abu Ghraib']],\n",
      " 'tokens': ['Pitiless',\n",
      "            'himself',\n",
      "            ',',\n",
      "            'he',\n",
      "            'sent',\n",
      "            'hundreds',\n",
      "            'of',\n",
      "            'thousands',\n",
      "            'of',\n",
      "            'his',\n",
      "            'countrymen',\n",
      "            'to',\n",
      "            'miserable',\n",
      "            'deaths',\n",
      "            ',',\n",
      "            'in',\n",
      "            'the',\n",
      "            'wars',\n",
      "            'he',\n",
      "            'started',\n",
      "            'against',\n",
      "            'Iran',\n",
      "            'and',\n",
      "            'Kuwait',\n",
      "            ',',\n",
      "            'in',\n",
      "            'the',\n",
      "            'torture',\n",
      "            'chambers',\n",
      "            'of',\n",
      "            'his',\n",
      "            'secret',\n",
      "            'police',\n",
      "            ',',\n",
      "            'or',\n",
      "            'on',\n",
      "            'the',\n",
      "            'gallows',\n",
      "            'that',\n",
      "            'became',\n",
      "            'an',\n",
      "            'industry',\n",
      "            'at',\n",
      "            'Abu',\n",
      "            'Ghraib',\n",
      "            'and',\n",
      "            'other',\n",
      "            'charnel',\n",
      "            'houses',\n",
      "            'across',\n",
      "            'Iraq',\n",
      "            '.']}\n"
     ]
    }
   ],
   "source": [
    "example = prepared_dataset[4]\n",
    "\n",
    "pprint(example)"
   ]
  },
  {
   "cell_type": "markdown",
   "id": "c9679d27",
   "metadata": {},
   "source": [
    "### Example Testing"
   ]
  },
  {
   "cell_type": "code",
   "execution_count": null,
   "id": "ba05bea7",
   "metadata": {},
   "outputs": [],
   "source": [
    "tokens = example[\"tokens\"]\n",
    "ner_spans = example[\"ner\"]\n",
    "labels = relation_labels"
   ]
  },
  {
   "cell_type": "code",
   "execution_count": null,
   "id": "82262c01",
   "metadata": {},
   "outputs": [
    {
     "name": "stdout",
     "output_type": "stream",
     "text": [
      "[{'head_pos': [50, 51], 'tail_pos': [43, 45], 'head_text': ['Iraq'], 'tail_text': ['Abu', 'Ghraib'], 'label': 'place_of_death', 'score': 0.3135254979133606}, {'head_pos': [43, 45], 'tail_pos': [50, 51], 'head_text': ['Abu', 'Ghraib'], 'tail_text': ['Iraq'], 'label': 'location', 'score': 0.2854765057563782}, {'head_pos': [50, 51], 'tail_pos': [43, 45], 'head_text': ['Iraq'], 'tail_text': ['Abu', 'Ghraib'], 'label': 'location', 'score': 0.28398367762565613}, {'head_pos': [50, 51], 'tail_pos': [43, 45], 'head_text': ['Iraq'], 'tail_text': ['Abu', 'Ghraib'], 'label': 'industry', 'score': 0.27281203866004944}, {'head_pos': [43, 45], 'tail_pos': [50, 51], 'head_text': ['Abu', 'Ghraib'], 'tail_text': ['Iraq'], 'label': 'place_of_death', 'score': 0.26273059844970703}, {'head_pos': [43, 45], 'tail_pos': [50, 51], 'head_text': ['Abu', 'Ghraib'], 'tail_text': ['Iraq'], 'label': 'industry', 'score': 0.18127655982971191}, {'head_pos': [43, 45], 'tail_pos': [50, 51], 'head_text': ['Abu', 'Ghraib'], 'tail_text': ['Iraq'], 'label': 'place_of_birth', 'score': 0.11847146600484848}, {'head_pos': [50, 51], 'tail_pos': [43, 45], 'head_text': ['Iraq'], 'tail_text': ['Abu', 'Ghraib'], 'label': 'place_of_birth', 'score': 0.112678162753582}, {'head_pos': [50, 51], 'tail_pos': [43, 45], 'head_text': ['Iraq'], 'tail_text': ['Abu', 'Ghraib'], 'label': 'place_lived', 'score': 0.08621256053447723}, {'head_pos': [50, 51], 'tail_pos': [43, 45], 'head_text': ['Iraq'], 'tail_text': ['Abu', 'Ghraib'], 'label': 'place_founded', 'score': 0.08459782600402832}, {'head_pos': [43, 45], 'tail_pos': [50, 51], 'head_text': ['Abu', 'Ghraib'], 'tail_text': ['Iraq'], 'label': 'place_founded', 'score': 0.07480798661708832}, {'head_pos': [43, 45], 'tail_pos': [50, 51], 'head_text': ['Abu', 'Ghraib'], 'tail_text': ['Iraq'], 'label': 'place_lived', 'score': 0.06885974109172821}, {'head_pos': [50, 51], 'tail_pos': [43, 45], 'head_text': ['Iraq'], 'tail_text': ['Abu', 'Ghraib'], 'label': 'neighborhood_of', 'score': 0.05240171402692795}, {'head_pos': [50, 51], 'tail_pos': [43, 45], 'head_text': ['Iraq'], 'tail_text': ['Abu', 'Ghraib'], 'label': 'contains', 'score': 0.05234653130173683}, {'head_pos': [43, 45], 'tail_pos': [50, 51], 'head_text': ['Abu', 'Ghraib'], 'tail_text': ['Iraq'], 'label': 'neighborhood_of', 'score': 0.047786325216293335}, {'head_pos': [43, 45], 'tail_pos': [50, 51], 'head_text': ['Abu', 'Ghraib'], 'tail_text': ['Iraq'], 'label': 'country', 'score': 0.04425496608018875}, {'head_pos': [50, 51], 'tail_pos': [43, 45], 'head_text': ['Iraq'], 'tail_text': ['Abu', 'Ghraib'], 'label': 'people', 'score': 0.04039670154452324}, {'head_pos': [43, 45], 'tail_pos': [50, 51], 'head_text': ['Abu', 'Ghraib'], 'tail_text': ['Iraq'], 'label': 'contains', 'score': 0.03615012764930725}, {'head_pos': [50, 51], 'tail_pos': [43, 45], 'head_text': ['Iraq'], 'tail_text': ['Abu', 'Ghraib'], 'label': 'geographic_distribution', 'score': 0.029751228168606758}, {'head_pos': [50, 51], 'tail_pos': [43, 45], 'head_text': ['Iraq'], 'tail_text': ['Abu', 'Ghraib'], 'label': 'country', 'score': 0.027058467268943787}, {'head_pos': [43, 45], 'tail_pos': [50, 51], 'head_text': ['Abu', 'Ghraib'], 'tail_text': ['Iraq'], 'label': 'geographic_distribution', 'score': 0.02181953191757202}, {'head_pos': [43, 45], 'tail_pos': [50, 51], 'head_text': ['Abu', 'Ghraib'], 'tail_text': ['Iraq'], 'label': 'nationality', 'score': 0.019984913989901543}, {'head_pos': [43, 45], 'tail_pos': [50, 51], 'head_text': ['Abu', 'Ghraib'], 'tail_text': ['Iraq'], 'label': 'people', 'score': 0.01875365898013115}, {'head_pos': [50, 51], 'tail_pos': [43, 45], 'head_text': ['Iraq'], 'tail_text': ['Abu', 'Ghraib'], 'label': 'nationality', 'score': 0.01535132434219122}, {'head_pos': [50, 51], 'tail_pos': [43, 45], 'head_text': ['Iraq'], 'tail_text': ['Abu', 'Ghraib'], 'label': 'ethnicity', 'score': 0.014603588730096817}, {'head_pos': [43, 45], 'tail_pos': [50, 51], 'head_text': ['Abu', 'Ghraib'], 'tail_text': ['Iraq'], 'label': 'ethnicity', 'score': 0.013760097324848175}, {'head_pos': [50, 51], 'tail_pos': [43, 45], 'head_text': ['Iraq'], 'tail_text': ['Abu', 'Ghraib'], 'label': 'religion', 'score': 0.011217090301215649}, {'head_pos': [43, 45], 'tail_pos': [50, 51], 'head_text': ['Abu', 'Ghraib'], 'tail_text': ['Iraq'], 'label': 'religion', 'score': 0.00858724769204855}, {'head_pos': [43, 45], 'tail_pos': [50, 51], 'head_text': ['Abu', 'Ghraib'], 'tail_text': ['Iraq'], 'label': 'founders', 'score': 0.006359236314892769}, {'head_pos': [50, 51], 'tail_pos': [43, 45], 'head_text': ['Iraq'], 'tail_text': ['Abu', 'Ghraib'], 'label': 'founders', 'score': 0.005902195814996958}, {'head_pos': [50, 51], 'tail_pos': [43, 45], 'head_text': ['Iraq'], 'tail_text': ['Abu', 'Ghraib'], 'label': 'children', 'score': 0.005205778405070305}, {'head_pos': [43, 45], 'tail_pos': [50, 51], 'head_text': ['Abu', 'Ghraib'], 'tail_text': ['Iraq'], 'label': 'major_shareholders', 'score': 0.004962414503097534}, {'head_pos': [43, 45], 'tail_pos': [50, 51], 'head_text': ['Abu', 'Ghraib'], 'tail_text': ['Iraq'], 'label': 'capital', 'score': 0.004957679659128189}, {'head_pos': [50, 51], 'tail_pos': [43, 45], 'head_text': ['Iraq'], 'tail_text': ['Abu', 'Ghraib'], 'label': 'major_shareholders', 'score': 0.004588206764310598}, {'head_pos': [43, 45], 'tail_pos': [50, 51], 'head_text': ['Abu', 'Ghraib'], 'tail_text': ['Iraq'], 'label': 'major_shareholder_of', 'score': 0.004303989466279745}, {'head_pos': [50, 51], 'tail_pos': [43, 45], 'head_text': ['Iraq'], 'tail_text': ['Abu', 'Ghraib'], 'label': 'capital', 'score': 0.004029740113765001}, {'head_pos': [50, 51], 'tail_pos': [43, 45], 'head_text': ['Iraq'], 'tail_text': ['Abu', 'Ghraib'], 'label': 'major_shareholder_of', 'score': 0.003929629921913147}, {'head_pos': [50, 51], 'tail_pos': [43, 45], 'head_text': ['Iraq'], 'tail_text': ['Abu', 'Ghraib'], 'label': 'profession', 'score': 0.0036573298275470734}, {'head_pos': [43, 45], 'tail_pos': [50, 51], 'head_text': ['Abu', 'Ghraib'], 'tail_text': ['Iraq'], 'label': 'children', 'score': 0.0027023968286812305}, {'head_pos': [43, 45], 'tail_pos': [50, 51], 'head_text': ['Abu', 'Ghraib'], 'tail_text': ['Iraq'], 'label': 'profession', 'score': 0.0026074403431266546}, {'head_pos': [43, 45], 'tail_pos': [50, 51], 'head_text': ['Abu', 'Ghraib'], 'tail_text': ['Iraq'], 'label': 'administrative_divisions', 'score': 0.001713500008918345}, {'head_pos': [50, 51], 'tail_pos': [43, 45], 'head_text': ['Iraq'], 'tail_text': ['Abu', 'Ghraib'], 'label': 'administrative_divisions', 'score': 0.0011729481630027294}, {'head_pos': [43, 45], 'tail_pos': [50, 51], 'head_text': ['Abu', 'Ghraib'], 'tail_text': ['Iraq'], 'label': 'company', 'score': 0.0008218645816668868}, {'head_pos': [50, 51], 'tail_pos': [43, 45], 'head_text': ['Iraq'], 'tail_text': ['Abu', 'Ghraib'], 'label': 'company', 'score': 0.0006927988142706454}, {'head_pos': [50, 51], 'tail_pos': [43, 45], 'head_text': ['Iraq'], 'tail_text': ['Abu', 'Ghraib'], 'label': 'teams', 'score': 0.00044610799523070455}, {'head_pos': [43, 45], 'tail_pos': [50, 51], 'head_text': ['Abu', 'Ghraib'], 'tail_text': ['Iraq'], 'label': 'teams', 'score': 0.00037051833351142704}, {'head_pos': [43, 45], 'tail_pos': [50, 51], 'head_text': ['Abu', 'Ghraib'], 'tail_text': ['Iraq'], 'label': 'advisors', 'score': 0.00027398590464144945}, {'head_pos': [50, 51], 'tail_pos': [43, 45], 'head_text': ['Iraq'], 'tail_text': ['Abu', 'Ghraib'], 'label': 'advisors', 'score': 0.00021921138977631927}]\n"
     ]
    }
   ],
   "source": [
    "# Ready to predict with GLiREL:\n",
    "relations = model.predict_relations(tokens, labels, threshold=0.0, ner=ner_spans, top_k=24)\n",
    "print(relations)"
   ]
  },
  {
   "cell_type": "markdown",
   "id": "7b1cc762",
   "metadata": {},
   "source": [
    "### Model Inference"
   ]
  },
  {
   "cell_type": "code",
   "execution_count": null,
   "id": "a9908d62",
   "metadata": {},
   "outputs": [],
   "source": [
    "predictions = []\n",
    "\n",
    "for ex in prepared_dataset:\n",
    "    tokens = ex[\"tokens\"]\n",
    "    labels = relation_labels\n",
    "    ner_spans = ex[\"ner\"]\n",
    "    \n",
    "    # Run GLiREL inference\n",
    "    preds = model.predict_relations(tokens, labels, threshold=0.0, ner=ner_spans, top_k=24)\n",
    "    \n",
    "    predictions.append(preds)"
   ]
  },
  {
   "cell_type": "code",
   "execution_count": null,
   "id": "a1f50d57",
   "metadata": {},
   "outputs": [
    {
     "name": "stdout",
     "output_type": "stream",
     "text": [
      "[{'head_pos': [0, 1], 'tail_pos': [7, 9], 'head_text': ['Englewood'], 'tail_text': ['New', 'Jersey'], 'label': 'location', 'score': 0.5626252889633179}, {'head_pos': [7, 9], 'tail_pos': [0, 1], 'head_text': ['New', 'Jersey'], 'tail_text': ['Englewood'], 'label': 'location', 'score': 0.43038100004196167}, {'head_pos': [0, 1], 'tail_pos': [7, 9], 'head_text': ['Englewood'], 'tail_text': ['New', 'Jersey'], 'label': 'contains', 'score': 0.09896647930145264}, {'head_pos': [7, 9], 'tail_pos': [0, 1], 'head_text': ['New', 'Jersey'], 'tail_text': ['Englewood'], 'label': 'contains', 'score': 0.07002299278974533}, {'head_pos': [7, 9], 'tail_pos': [0, 1], 'head_text': ['New', 'Jersey'], 'tail_text': ['Englewood'], 'label': 'place_of_birth', 'score': 0.0444660447537899}, {'head_pos': [0, 1], 'tail_pos': [7, 9], 'head_text': ['Englewood'], 'tail_text': ['New', 'Jersey'], 'label': 'place_of_birth', 'score': 0.03361504152417183}, {'head_pos': [0, 1], 'tail_pos': [7, 9], 'head_text': ['Englewood'], 'tail_text': ['New', 'Jersey'], 'label': 'country', 'score': 0.030437376350164413}, {'head_pos': [7, 9], 'tail_pos': [0, 1], 'head_text': ['New', 'Jersey'], 'tail_text': ['Englewood'], 'label': 'neighborhood_of', 'score': 0.030227262526750565}, {'head_pos': [7, 9], 'tail_pos': [0, 1], 'head_text': ['New', 'Jersey'], 'tail_text': ['Englewood'], 'label': 'place_of_death', 'score': 0.02920810505747795}, {'head_pos': [0, 1], 'tail_pos': [7, 9], 'head_text': ['Englewood'], 'tail_text': ['New', 'Jersey'], 'label': 'neighborhood_of', 'score': 0.025919310748577118}, {'head_pos': [0, 1], 'tail_pos': [7, 9], 'head_text': ['Englewood'], 'tail_text': ['New', 'Jersey'], 'label': 'place_of_death', 'score': 0.022426100447773933}, {'head_pos': [7, 9], 'tail_pos': [0, 1], 'head_text': ['New', 'Jersey'], 'tail_text': ['Englewood'], 'label': 'country', 'score': 0.019756585359573364}, {'head_pos': [7, 9], 'tail_pos': [0, 1], 'head_text': ['New', 'Jersey'], 'tail_text': ['Englewood'], 'label': 'place_founded', 'score': 0.015186081640422344}, {'head_pos': [0, 1], 'tail_pos': [7, 9], 'head_text': ['Englewood'], 'tail_text': ['New', 'Jersey'], 'label': 'place_founded', 'score': 0.01495231781154871}, {'head_pos': [7, 9], 'tail_pos': [0, 1], 'head_text': ['New', 'Jersey'], 'tail_text': ['Englewood'], 'label': 'place_lived', 'score': 0.01380922831594944}, {'head_pos': [0, 1], 'tail_pos': [7, 9], 'head_text': ['Englewood'], 'tail_text': ['New', 'Jersey'], 'label': 'place_lived', 'score': 0.012796752154827118}, {'head_pos': [7, 9], 'tail_pos': [0, 1], 'head_text': ['New', 'Jersey'], 'tail_text': ['Englewood'], 'label': 'geographic_distribution', 'score': 0.009436637163162231}, {'head_pos': [0, 1], 'tail_pos': [7, 9], 'head_text': ['Englewood'], 'tail_text': ['New', 'Jersey'], 'label': 'geographic_distribution', 'score': 0.008443837985396385}, {'head_pos': [7, 9], 'tail_pos': [0, 1], 'head_text': ['New', 'Jersey'], 'tail_text': ['Englewood'], 'label': 'nationality', 'score': 0.006536263972520828}, {'head_pos': [0, 1], 'tail_pos': [7, 9], 'head_text': ['Englewood'], 'tail_text': ['New', 'Jersey'], 'label': 'nationality', 'score': 0.005399076733738184}, {'head_pos': [7, 9], 'tail_pos': [0, 1], 'head_text': ['New', 'Jersey'], 'tail_text': ['Englewood'], 'label': 'profession', 'score': 0.002535469364374876}, {'head_pos': [0, 1], 'tail_pos': [7, 9], 'head_text': ['Englewood'], 'tail_text': ['New', 'Jersey'], 'label': 'administrative_divisions', 'score': 0.0024413536302745342}, {'head_pos': [7, 9], 'tail_pos': [0, 1], 'head_text': ['New', 'Jersey'], 'tail_text': ['Englewood'], 'label': 'administrative_divisions', 'score': 0.002403019927442074}, {'head_pos': [7, 9], 'tail_pos': [0, 1], 'head_text': ['New', 'Jersey'], 'tail_text': ['Englewood'], 'label': 'people', 'score': 0.001973723527044058}, {'head_pos': [7, 9], 'tail_pos': [0, 1], 'head_text': ['New', 'Jersey'], 'tail_text': ['Englewood'], 'label': 'industry', 'score': 0.001672717509791255}, {'head_pos': [0, 1], 'tail_pos': [7, 9], 'head_text': ['Englewood'], 'tail_text': ['New', 'Jersey'], 'label': 'industry', 'score': 0.0013726785546168685}, {'head_pos': [0, 1], 'tail_pos': [7, 9], 'head_text': ['Englewood'], 'tail_text': ['New', 'Jersey'], 'label': 'people', 'score': 0.0013558444334194064}, {'head_pos': [7, 9], 'tail_pos': [0, 1], 'head_text': ['New', 'Jersey'], 'tail_text': ['Englewood'], 'label': 'ethnicity', 'score': 0.0013099175412207842}, {'head_pos': [7, 9], 'tail_pos': [0, 1], 'head_text': ['New', 'Jersey'], 'tail_text': ['Englewood'], 'label': 'founders', 'score': 0.0012094606645405293}, {'head_pos': [0, 1], 'tail_pos': [7, 9], 'head_text': ['Englewood'], 'tail_text': ['New', 'Jersey'], 'label': 'ethnicity', 'score': 0.0011223594192415476}, {'head_pos': [7, 9], 'tail_pos': [0, 1], 'head_text': ['New', 'Jersey'], 'tail_text': ['Englewood'], 'label': 'religion', 'score': 0.0011001088423654437}, {'head_pos': [0, 1], 'tail_pos': [7, 9], 'head_text': ['Englewood'], 'tail_text': ['New', 'Jersey'], 'label': 'profession', 'score': 0.001043829950504005}, {'head_pos': [0, 1], 'tail_pos': [7, 9], 'head_text': ['Englewood'], 'tail_text': ['New', 'Jersey'], 'label': 'founders', 'score': 0.0009713429026305676}, {'head_pos': [7, 9], 'tail_pos': [0, 1], 'head_text': ['New', 'Jersey'], 'tail_text': ['Englewood'], 'label': 'company', 'score': 0.0009172955760732293}, {'head_pos': [0, 1], 'tail_pos': [7, 9], 'head_text': ['Englewood'], 'tail_text': ['New', 'Jersey'], 'label': 'religion', 'score': 0.0008270866819657385}, {'head_pos': [7, 9], 'tail_pos': [0, 1], 'head_text': ['New', 'Jersey'], 'tail_text': ['Englewood'], 'label': 'major_shareholders', 'score': 0.0007077988120727241}, {'head_pos': [0, 1], 'tail_pos': [7, 9], 'head_text': ['Englewood'], 'tail_text': ['New', 'Jersey'], 'label': 'major_shareholders', 'score': 0.0006639023195020854}, {'head_pos': [0, 1], 'tail_pos': [7, 9], 'head_text': ['Englewood'], 'tail_text': ['New', 'Jersey'], 'label': 'company', 'score': 0.0006175404414534569}, {'head_pos': [7, 9], 'tail_pos': [0, 1], 'head_text': ['New', 'Jersey'], 'tail_text': ['Englewood'], 'label': 'major_shareholder_of', 'score': 0.0005492482450790703}, {'head_pos': [0, 1], 'tail_pos': [7, 9], 'head_text': ['Englewood'], 'tail_text': ['New', 'Jersey'], 'label': 'major_shareholder_of', 'score': 0.0005353589076548815}, {'head_pos': [7, 9], 'tail_pos': [0, 1], 'head_text': ['New', 'Jersey'], 'tail_text': ['Englewood'], 'label': 'teams', 'score': 0.0002069243637379259}, {'head_pos': [7, 9], 'tail_pos': [0, 1], 'head_text': ['New', 'Jersey'], 'tail_text': ['Englewood'], 'label': 'children', 'score': 0.00020388855773489922}, {'head_pos': [0, 1], 'tail_pos': [7, 9], 'head_text': ['Englewood'], 'tail_text': ['New', 'Jersey'], 'label': 'children', 'score': 0.00016043272626120597}, {'head_pos': [7, 9], 'tail_pos': [0, 1], 'head_text': ['New', 'Jersey'], 'tail_text': ['Englewood'], 'label': 'capital', 'score': 0.00015893463569227606}, {'head_pos': [0, 1], 'tail_pos': [7, 9], 'head_text': ['Englewood'], 'tail_text': ['New', 'Jersey'], 'label': 'teams', 'score': 0.00015362448175437748}, {'head_pos': [0, 1], 'tail_pos': [7, 9], 'head_text': ['Englewood'], 'tail_text': ['New', 'Jersey'], 'label': 'capital', 'score': 0.00014199601719155908}, {'head_pos': [7, 9], 'tail_pos': [0, 1], 'head_text': ['New', 'Jersey'], 'tail_text': ['Englewood'], 'label': 'advisors', 'score': 9.314664202975109e-05}, {'head_pos': [0, 1], 'tail_pos': [7, 9], 'head_text': ['Englewood'], 'tail_text': ['New', 'Jersey'], 'label': 'advisors', 'score': 5.484714711201377e-05}]\n"
     ]
    }
   ],
   "source": [
    "print(predictions[0])"
   ]
  },
  {
   "cell_type": "markdown",
   "id": "1c0c95d9",
   "metadata": {},
   "source": [
    "### Performance Evaluation"
   ]
  },
  {
   "cell_type": "code",
   "execution_count": null,
   "id": "eb096f7e",
   "metadata": {},
   "outputs": [],
   "source": [
    "def compute_metrics(dataset, predictions, threshold=0.5):\n",
    "    assert len(dataset) == len(predictions)\n",
    "\n",
    "    total_tp = 0\n",
    "    total_fp = 0\n",
    "    total_fn = 0\n",
    "\n",
    "    for ex, preds in zip(dataset, predictions):\n",
    "        gold = set(ex[\"gold_relations\"])\n",
    "        pred = set()\n",
    "        for rel in preds:\n",
    "            if rel[\"score\"] < threshold:\n",
    "                continue\n",
    "            h_span = (rel[\"head_pos\"][0], rel[\"head_pos\"][1])\n",
    "            t_span = (rel[\"tail_pos\"][0], rel[\"tail_pos\"][1])\n",
    "            pred.add((h_span, t_span, rel[\"label\"]))\n",
    "        \n",
    "        for rel in gold:\n",
    "            rel = (rel[0], rel[1], rel[2].lower().strip())\n",
    "        for rel in pred:\n",
    "            rel = (rel[0], rel[1], rel[2].lower().strip())\n",
    "\n",
    "        tp = len(gold & pred)\n",
    "        fp = len(pred - gold)\n",
    "        fn = len(gold - pred)\n",
    "        \n",
    "        total_tp += tp\n",
    "        total_fp += fp\n",
    "        total_fn += fn\n",
    "\n",
    "    precision = total_tp / (total_tp + total_fp) if (total_tp + total_fp) > 0 else 0.0\n",
    "    recall = total_tp / (total_tp + total_fn) if (total_tp + total_fn) > 0 else 0.0\n",
    "    f1 = 2 * precision * recall / (precision + recall) if (precision + recall) > 0 else 0.0\n",
    "\n",
    "    return {\n",
    "        \"precision\": precision,\n",
    "        \"recall\": recall,\n",
    "        \"f1\": f1,\n",
    "        \"true_positives\": total_tp,\n",
    "        \"false_positives\": total_fp,\n",
    "        \"false_negatives\": total_fn\n",
    "    }"
   ]
  },
  {
   "cell_type": "code",
   "execution_count": null,
   "id": "bf6948e2",
   "metadata": {},
   "outputs": [
    {
     "name": "stdout",
     "output_type": "stream",
     "text": [
      "precision: 0.0221\n",
      "recall: 0.7355\n",
      "f1: 0.0429\n",
      "true_positives: 6538\n",
      "false_positives: 289238\n",
      "false_negatives: 2351\n"
     ]
    }
   ],
   "source": [
    "metrics = compute_metrics(prepared_dataset, predictions, threshold=0.0)\n",
    "\n",
    "# Print nicely\n",
    "for key, value in metrics.items():\n",
    "    print(f\"{key}: {value:.4f}\" if isinstance(value, float) else f\"{key}: {value}\")"
   ]
  },
  {
   "cell_type": "markdown",
   "id": "d23231fe",
   "metadata": {},
   "source": [
    "## CoNLL 2004"
   ]
  },
  {
   "cell_type": "code",
   "execution_count": null,
   "id": "4a6bd339",
   "metadata": {},
   "outputs": [],
   "source": [
    "from datasets import load_dataset"
   ]
  },
  {
   "cell_type": "code",
   "execution_count": null,
   "id": "eb9e1a71",
   "metadata": {},
   "outputs": [
    {
     "data": {
      "application/vnd.jupyter.widget-view+json": {
       "model_id": "72985ae2222640abb3fc1160048d3627",
       "version_major": 2,
       "version_minor": 0
      },
      "text/plain": [
       "README.md: 0.00B [00:00, ?B/s]"
      ]
     },
     "metadata": {},
     "output_type": "display_data"
    },
    {
     "data": {
      "application/vnd.jupyter.widget-view+json": {
       "model_id": "755a1434d5ea4c70b832c3e78afba666",
       "version_major": 2,
       "version_minor": 0
      },
      "text/plain": [
       "train-00000-of-00001.parquet:   0%|          | 0.00/118k [00:00<?, ?B/s]"
      ]
     },
     "metadata": {},
     "output_type": "display_data"
    },
    {
     "data": {
      "application/vnd.jupyter.widget-view+json": {
       "model_id": "467154969c2141f1b87e19045bd309ac",
       "version_major": 2,
       "version_minor": 0
      },
      "text/plain": [
       "validation-00000-of-00001.parquet:   0%|          | 0.00/40.5k [00:00<?, ?B/s]"
      ]
     },
     "metadata": {},
     "output_type": "display_data"
    },
    {
     "data": {
      "application/vnd.jupyter.widget-view+json": {
       "model_id": "a449b00f27334d5bac8917b5958b3cf8",
       "version_major": 2,
       "version_minor": 0
      },
      "text/plain": [
       "test-00000-of-00001.parquet:   0%|          | 0.00/46.6k [00:00<?, ?B/s]"
      ]
     },
     "metadata": {},
     "output_type": "display_data"
    },
    {
     "data": {
      "application/vnd.jupyter.widget-view+json": {
       "model_id": "b7c6150744934abbb34909604b8f9789",
       "version_major": 2,
       "version_minor": 0
      },
      "text/plain": [
       "Generating train split:   0%|          | 0/922 [00:00<?, ? examples/s]"
      ]
     },
     "metadata": {},
     "output_type": "display_data"
    },
    {
     "data": {
      "application/vnd.jupyter.widget-view+json": {
       "model_id": "e9868f29760d48279f0ad6cfd666c20f",
       "version_major": 2,
       "version_minor": 0
      },
      "text/plain": [
       "Generating validation split:   0%|          | 0/231 [00:00<?, ? examples/s]"
      ]
     },
     "metadata": {},
     "output_type": "display_data"
    },
    {
     "data": {
      "application/vnd.jupyter.widget-view+json": {
       "model_id": "502aabca6d5c41c4a129a6be351f4ebb",
       "version_major": 2,
       "version_minor": 0
      },
      "text/plain": [
       "Generating test split:   0%|          | 0/288 [00:00<?, ? examples/s]"
      ]
     },
     "metadata": {},
     "output_type": "display_data"
    }
   ],
   "source": [
    "ds = load_dataset(\"DFKI-SLT/conll04\")"
   ]
  },
  {
   "cell_type": "code",
   "execution_count": null,
   "id": "8892714f",
   "metadata": {},
   "outputs": [],
   "source": [
    "test_ds = ds[\"test\"]"
   ]
  },
  {
   "cell_type": "code",
   "execution_count": null,
   "id": "a7579147",
   "metadata": {},
   "outputs": [
    {
     "name": "stdout",
     "output_type": "stream",
     "text": [
      "Dataset({\n",
      "    features: ['entities', 'tokens', 'relations', 'orig_id'],\n",
      "    num_rows: 288\n",
      "})\n"
     ]
    }
   ],
   "source": [
    "print(test_ds)"
   ]
  },
  {
   "cell_type": "code",
   "execution_count": null,
   "id": "4ad1a47d",
   "metadata": {},
   "outputs": [
    {
     "name": "stdout",
     "output_type": "stream",
     "text": [
      "{'entities': [{'end': 7, 'start': 5, 'type': 'Org'}, {'end': 9, 'start': 8, 'type': 'Other'}, {'end': 11, 'start': 10, 'type': 'Loc'}, {'end': 18, 'start': 17, 'type': 'Other'}], 'tokens': ['An', 'art', 'exhibit', 'at', 'the', 'Hakawati', 'Theatre', 'in', 'Arab', 'east', 'Jerusalem', 'was', 'a', 'series', 'of', 'portraits', 'of', 'Palestinians', 'killed', 'in', 'the', 'rebellion', '.'], 'relations': [{'head': 0, 'tail': 2, 'type': 'OrgBased_In'}], 'orig_id': 17}\n"
     ]
    }
   ],
   "source": [
    "print(test_ds[0])"
   ]
  },
  {
   "cell_type": "markdown",
   "id": "6ed85143",
   "metadata": {},
   "source": [
    "### Pre-processing"
   ]
  },
  {
   "cell_type": "code",
   "execution_count": null,
   "id": "48f2cf05",
   "metadata": {},
   "outputs": [],
   "source": [
    "def create_conll_input(ex):\n",
    "    tokens = ex[\"tokens\"]\n",
    "    \n",
    "    ner = []\n",
    "    for ent in ex['entities']:\n",
    "        start = ent['start']\n",
    "        end = ent['end'] - 1  # make inclusive\n",
    "        label = ent['type']\n",
    "        text = ' '.join(tokens[start:end + 1])\n",
    "        ner.append([start, end, label, text])\n",
    "\n",
    "    # 2. Gold relations as set\n",
    "    gold_set = set()\n",
    "    for rel in ex['relations']:\n",
    "        head = [ex['entities'][rel[\"head\"]]['start'], ex['entities'][rel[\"head\"]]['end']]\n",
    "        tail = [ex['entities'][rel[\"tail\"]]['start'], ex['entities'][rel[\"tail\"]]['end']]\n",
    "        relation = rel['type']\n",
    "\n",
    "        head_span = (head[0], head[1])\n",
    "        tail_span = (tail[0], tail[1])\n",
    "\n",
    "        gold_set.add((head_span, tail_span, relation))\n",
    "\n",
    "    return {\n",
    "        \"tokens\": tokens,\n",
    "        \"ner\": ner,\n",
    "        \"gold_relations\": gold_set\n",
    "    }"
   ]
  },
  {
   "cell_type": "code",
   "execution_count": null,
   "id": "dfacf48d",
   "metadata": {},
   "outputs": [],
   "source": [
    "conll_input = [create_conll_input(example) for example in test_ds]"
   ]
  },
  {
   "cell_type": "code",
   "execution_count": null,
   "id": "035598c7",
   "metadata": {},
   "outputs": [],
   "source": [
    "# Extract unique labels across dataset\n",
    "def get_conll_labels(dataset):\n",
    "    labels = set()\n",
    "    for item in dataset:\n",
    "        for rel in item[\"relations\"]:\n",
    "            labels.add(rel[\"relation_text\"])\n",
    "    return sorted(labels)"
   ]
  },
  {
   "cell_type": "code",
   "execution_count": null,
   "id": "c69707ef",
   "metadata": {},
   "outputs": [
    {
     "name": "stdout",
     "output_type": "stream",
     "text": [
      "Relation Labels: ['Kill', 'Live_In', 'Located_In', 'OrgBased_In', 'Work_For']\n",
      "Number of Relation Labels: 5\n"
     ]
    }
   ],
   "source": [
    "conll_labels = get_conll_labels(conll_data)\n",
    "print(\"Relation Labels:\", conll_labels)\n",
    "print(\"Number of Relation Labels:\", len(conll_labels))"
   ]
  },
  {
   "cell_type": "markdown",
   "id": "cb10aefb",
   "metadata": {},
   "source": [
    "### Example Test"
   ]
  },
  {
   "cell_type": "code",
   "execution_count": null,
   "id": "7acfe6c6",
   "metadata": {},
   "outputs": [
    {
     "name": "stdout",
     "output_type": "stream",
     "text": [
      "{'tokens': ['An', 'art', 'exhibit', 'at', 'the', 'Hakawati', 'Theatre', 'in', 'Arab', 'east', 'Jerusalem', 'was', 'a', 'series', 'of', 'portraits', 'of', 'Palestinians', 'killed', 'in', 'the', 'rebellion', '.'], 'ner': [[5, 6, 'Org', 'Hakawati Theatre'], [8, 8, 'Other', 'Arab'], [10, 10, 'Loc', 'Jerusalem'], [17, 17, 'Other', 'Palestinians']], 'gold_relations': {((5, 7), (10, 11), 'OrgBased_In')}}\n"
     ]
    }
   ],
   "source": [
    "conll_example = conll_input[0]\n",
    "print(conll_example)"
   ]
  },
  {
   "cell_type": "code",
   "execution_count": null,
   "id": "07cf0eaa",
   "metadata": {},
   "outputs": [],
   "source": [
    "conll_ex_tokens = conll_example[\"tokens\"]\n",
    "conll_ex_ner = conll_example[\"ner\"]"
   ]
  },
  {
   "cell_type": "code",
   "execution_count": null,
   "id": "5f79de13",
   "metadata": {},
   "outputs": [],
   "source": [
    "conll_ex_prediction = model.predict_relations(conll_ex_tokens, labels=conll_labels, threshold=0.0, ner=conll_ex_ner, top_k=5)"
   ]
  },
  {
   "cell_type": "code",
   "execution_count": null,
   "id": "8a3d1188",
   "metadata": {},
   "outputs": [
    {
     "name": "stdout",
     "output_type": "stream",
     "text": [
      "Number of relations: 60\n",
      "\n",
      "Descending Order by Score:\n",
      "['Hakawati', 'Theatre'] --> Located_In --> ['Jerusalem'] | score: 0.5305671095848083\n",
      "['Jerusalem'] --> Located_In --> ['Hakawati', 'Theatre'] | score: 0.3967788517475128\n",
      "['Arab'] --> Located_In --> ['Jerusalem'] | score: 0.39375779032707214\n",
      "['Jerusalem'] --> Located_In --> ['Arab'] | score: 0.32883286476135254\n",
      "['Hakawati', 'Theatre'] --> Located_In --> ['Arab'] | score: 0.320782870054245\n",
      "['Palestinians'] --> Live_In --> ['Jerusalem'] | score: 0.31211742758750916\n",
      "['Arab'] --> Located_In --> ['Hakawati', 'Theatre'] | score: 0.22228744626045227\n",
      "['Palestinians'] --> Located_In --> ['Jerusalem'] | score: 0.21948927640914917\n",
      "['Hakawati', 'Theatre'] --> Kill --> ['Palestinians'] | score: 0.21816113591194153\n",
      "['Jerusalem'] --> Kill --> ['Palestinians'] | score: 0.1833038032054901\n",
      "['Arab'] --> Live_In --> ['Jerusalem'] | score: 0.1621631383895874\n",
      "['Hakawati', 'Theatre'] --> Live_In --> ['Jerusalem'] | score: 0.126860573887825\n",
      "['Jerusalem'] --> Live_In --> ['Arab'] | score: 0.11657629162073135\n",
      "['Jerusalem'] --> Live_In --> ['Palestinians'] | score: 0.09206338226795197\n",
      "['Palestinians'] --> Kill --> ['Hakawati', 'Theatre'] | score: 0.0841938927769661\n",
      "['Palestinians'] --> Kill --> ['Jerusalem'] | score: 0.05480393022298813\n",
      "['Jerusalem'] --> Live_In --> ['Hakawati', 'Theatre'] | score: 0.0515340156853199\n",
      "['Hakawati', 'Theatre'] --> Live_In --> ['Arab'] | score: 0.0503733828663826\n",
      "['Jerusalem'] --> Located_In --> ['Palestinians'] | score: 0.04532778263092041\n",
      "['Hakawati', 'Theatre'] --> OrgBased_In --> ['Arab'] | score: 0.03697732463479042\n",
      "['Arab'] --> OrgBased_In --> ['Jerusalem'] | score: 0.03165993466973305\n",
      "['Hakawati', 'Theatre'] --> OrgBased_In --> ['Jerusalem'] | score: 0.02859382890164852\n",
      "['Palestinians'] --> OrgBased_In --> ['Jerusalem'] | score: 0.028121139854192734\n",
      "['Jerusalem'] --> OrgBased_In --> ['Arab'] | score: 0.026564639061689377\n",
      "['Palestinians'] --> Located_In --> ['Hakawati', 'Theatre'] | score: 0.02549108862876892\n",
      "['Arab'] --> Live_In --> ['Hakawati', 'Theatre'] | score: 0.022874942049384117\n",
      "['Palestinians'] --> Live_In --> ['Hakawati', 'Theatre'] | score: 0.020872095599770546\n",
      "['Hakawati', 'Theatre'] --> Live_In --> ['Palestinians'] | score: 0.010611191391944885\n",
      "['Arab'] --> OrgBased_In --> ['Hakawati', 'Theatre'] | score: 0.010405220091342926\n",
      "['Palestinians'] --> Work_For --> ['Hakawati', 'Theatre'] | score: 0.009350000880658627\n",
      "['Jerusalem'] --> OrgBased_In --> ['Palestinians'] | score: 0.008380397222936153\n",
      "['Jerusalem'] --> OrgBased_In --> ['Hakawati', 'Theatre'] | score: 0.00833500549197197\n",
      "['Hakawati', 'Theatre'] --> Located_In --> ['Palestinians'] | score: 0.006908053532242775\n",
      "['Hakawati', 'Theatre'] --> Work_For --> ['Arab'] | score: 0.0069000073708593845\n",
      "['Hakawati', 'Theatre'] --> Work_For --> ['Palestinians'] | score: 0.006653543561697006\n",
      "['Arab'] --> Work_For --> ['Hakawati', 'Theatre'] | score: 0.006622381508350372\n",
      "['Jerusalem'] --> Kill --> ['Arab'] | score: 0.004577741026878357\n",
      "['Hakawati', 'Theatre'] --> Kill --> ['Arab'] | score: 0.004542194306850433\n",
      "['Jerusalem'] --> Work_For --> ['Palestinians'] | score: 0.004407442640513182\n",
      "['Palestinians'] --> Work_For --> ['Jerusalem'] | score: 0.004268885124474764\n",
      "['Arab'] --> Kill --> ['Jerusalem'] | score: 0.00377658661454916\n",
      "['Palestinians'] --> OrgBased_In --> ['Hakawati', 'Theatre'] | score: 0.0037306728772819042\n",
      "['Arab'] --> Kill --> ['Hakawati', 'Theatre'] | score: 0.003365817479789257\n",
      "['Hakawati', 'Theatre'] --> OrgBased_In --> ['Palestinians'] | score: 0.0026745253708213568\n",
      "['Jerusalem'] --> Work_For --> ['Arab'] | score: 0.0021321256645023823\n",
      "['Arab'] --> Work_For --> ['Jerusalem'] | score: 0.0020232207607477903\n",
      "['Jerusalem'] --> Work_For --> ['Hakawati', 'Theatre'] | score: 0.0016010298859328032\n",
      "['Jerusalem'] --> Kill --> ['Hakawati', 'Theatre'] | score: 0.0013343557948246598\n",
      "['Arab'] --> Kill --> ['Palestinians'] | score: 0.001238370779901743\n",
      "['Hakawati', 'Theatre'] --> Work_For --> ['Jerusalem'] | score: 0.0011876662028953433\n",
      "['Palestinians'] --> Kill --> ['Arab'] | score: 0.001094776438549161\n",
      "['Hakawati', 'Theatre'] --> Kill --> ['Jerusalem'] | score: 0.0009065121412277222\n",
      "['Palestinians'] --> Live_In --> ['Arab'] | score: 0.0002785002870950848\n",
      "['Palestinians'] --> Located_In --> ['Arab'] | score: 0.0001297694689128548\n",
      "['Arab'] --> Live_In --> ['Palestinians'] | score: 5.36182924406603e-05\n",
      "['Palestinians'] --> OrgBased_In --> ['Arab'] | score: 3.2403193472418934e-05\n",
      "['Palestinians'] --> Work_For --> ['Arab'] | score: 2.9181956051615998e-05\n",
      "['Arab'] --> Located_In --> ['Palestinians'] | score: 2.114552989951335e-05\n",
      "['Arab'] --> Work_For --> ['Palestinians'] | score: 1.3739881069341209e-05\n",
      "['Arab'] --> OrgBased_In --> ['Palestinians'] | score: 6.027474228176288e-06\n"
     ]
    }
   ],
   "source": [
    "print('Number of relations:', len(conll_ex_prediction))\n",
    "\n",
    "sorted_conll_preds = sorted(conll_ex_prediction, key=lambda x: x['score'], reverse=True)\n",
    "print(\"\\nDescending Order by Score:\")\n",
    "for item in sorted_conll_preds:\n",
    "    print(f\"{item['head_text']} --> {item['label']} --> {item['tail_text']} | score: {item['score']}\")"
   ]
  },
  {
   "cell_type": "markdown",
   "id": "83224c28",
   "metadata": {},
   "source": [
    "### Inference"
   ]
  },
  {
   "cell_type": "code",
   "execution_count": null,
   "id": "e613bcca",
   "metadata": {},
   "outputs": [],
   "source": [
    "conll_predictions = []\n",
    "\n",
    "for example in conll_input:\n",
    "    tokens = example[\"tokens\"]\n",
    "    labels = conll_labels\n",
    "    ner = example[\"ner\"]\n",
    "\n",
    "    # Run GLiREL inference\n",
    "    preds = model.predict_relations(tokens, labels=conll_labels, threshold=0.0, ner=ner, top_k=5)\n",
    "    \n",
    "    conll_predictions.append(preds)"
   ]
  },
  {
   "cell_type": "code",
   "execution_count": null,
   "id": "1847da8d",
   "metadata": {},
   "outputs": [
    {
     "name": "stdout",
     "output_type": "stream",
     "text": [
      "[{'head_pos': [5, 7], 'tail_pos': [10, 11], 'head_text': ['Hakawati', 'Theatre'], 'tail_text': ['Jerusalem'], 'label': 'Located_In', 'score': 0.5305671095848083}, {'head_pos': [10, 11], 'tail_pos': [5, 7], 'head_text': ['Jerusalem'], 'tail_text': ['Hakawati', 'Theatre'], 'label': 'Located_In', 'score': 0.3967788517475128}, {'head_pos': [8, 9], 'tail_pos': [10, 11], 'head_text': ['Arab'], 'tail_text': ['Jerusalem'], 'label': 'Located_In', 'score': 0.39375779032707214}, {'head_pos': [10, 11], 'tail_pos': [8, 9], 'head_text': ['Jerusalem'], 'tail_text': ['Arab'], 'label': 'Located_In', 'score': 0.32883286476135254}, {'head_pos': [5, 7], 'tail_pos': [8, 9], 'head_text': ['Hakawati', 'Theatre'], 'tail_text': ['Arab'], 'label': 'Located_In', 'score': 0.320782870054245}, {'head_pos': [17, 18], 'tail_pos': [10, 11], 'head_text': ['Palestinians'], 'tail_text': ['Jerusalem'], 'label': 'Live_In', 'score': 0.31211742758750916}, {'head_pos': [8, 9], 'tail_pos': [5, 7], 'head_text': ['Arab'], 'tail_text': ['Hakawati', 'Theatre'], 'label': 'Located_In', 'score': 0.22228744626045227}, {'head_pos': [17, 18], 'tail_pos': [10, 11], 'head_text': ['Palestinians'], 'tail_text': ['Jerusalem'], 'label': 'Located_In', 'score': 0.21948927640914917}, {'head_pos': [5, 7], 'tail_pos': [17, 18], 'head_text': ['Hakawati', 'Theatre'], 'tail_text': ['Palestinians'], 'label': 'Kill', 'score': 0.21816113591194153}, {'head_pos': [10, 11], 'tail_pos': [17, 18], 'head_text': ['Jerusalem'], 'tail_text': ['Palestinians'], 'label': 'Kill', 'score': 0.1833038032054901}, {'head_pos': [8, 9], 'tail_pos': [10, 11], 'head_text': ['Arab'], 'tail_text': ['Jerusalem'], 'label': 'Live_In', 'score': 0.1621631383895874}, {'head_pos': [5, 7], 'tail_pos': [10, 11], 'head_text': ['Hakawati', 'Theatre'], 'tail_text': ['Jerusalem'], 'label': 'Live_In', 'score': 0.126860573887825}, {'head_pos': [10, 11], 'tail_pos': [8, 9], 'head_text': ['Jerusalem'], 'tail_text': ['Arab'], 'label': 'Live_In', 'score': 0.11657629162073135}, {'head_pos': [10, 11], 'tail_pos': [17, 18], 'head_text': ['Jerusalem'], 'tail_text': ['Palestinians'], 'label': 'Live_In', 'score': 0.09206338226795197}, {'head_pos': [17, 18], 'tail_pos': [5, 7], 'head_text': ['Palestinians'], 'tail_text': ['Hakawati', 'Theatre'], 'label': 'Kill', 'score': 0.0841938927769661}, {'head_pos': [17, 18], 'tail_pos': [10, 11], 'head_text': ['Palestinians'], 'tail_text': ['Jerusalem'], 'label': 'Kill', 'score': 0.05480393022298813}, {'head_pos': [10, 11], 'tail_pos': [5, 7], 'head_text': ['Jerusalem'], 'tail_text': ['Hakawati', 'Theatre'], 'label': 'Live_In', 'score': 0.0515340156853199}, {'head_pos': [5, 7], 'tail_pos': [8, 9], 'head_text': ['Hakawati', 'Theatre'], 'tail_text': ['Arab'], 'label': 'Live_In', 'score': 0.0503733828663826}, {'head_pos': [10, 11], 'tail_pos': [17, 18], 'head_text': ['Jerusalem'], 'tail_text': ['Palestinians'], 'label': 'Located_In', 'score': 0.04532778263092041}, {'head_pos': [5, 7], 'tail_pos': [8, 9], 'head_text': ['Hakawati', 'Theatre'], 'tail_text': ['Arab'], 'label': 'OrgBased_In', 'score': 0.03697732463479042}, {'head_pos': [8, 9], 'tail_pos': [10, 11], 'head_text': ['Arab'], 'tail_text': ['Jerusalem'], 'label': 'OrgBased_In', 'score': 0.03165993466973305}, {'head_pos': [5, 7], 'tail_pos': [10, 11], 'head_text': ['Hakawati', 'Theatre'], 'tail_text': ['Jerusalem'], 'label': 'OrgBased_In', 'score': 0.02859382890164852}, {'head_pos': [17, 18], 'tail_pos': [10, 11], 'head_text': ['Palestinians'], 'tail_text': ['Jerusalem'], 'label': 'OrgBased_In', 'score': 0.028121139854192734}, {'head_pos': [10, 11], 'tail_pos': [8, 9], 'head_text': ['Jerusalem'], 'tail_text': ['Arab'], 'label': 'OrgBased_In', 'score': 0.026564639061689377}, {'head_pos': [17, 18], 'tail_pos': [5, 7], 'head_text': ['Palestinians'], 'tail_text': ['Hakawati', 'Theatre'], 'label': 'Located_In', 'score': 0.02549108862876892}, {'head_pos': [8, 9], 'tail_pos': [5, 7], 'head_text': ['Arab'], 'tail_text': ['Hakawati', 'Theatre'], 'label': 'Live_In', 'score': 0.022874942049384117}, {'head_pos': [17, 18], 'tail_pos': [5, 7], 'head_text': ['Palestinians'], 'tail_text': ['Hakawati', 'Theatre'], 'label': 'Live_In', 'score': 0.020872095599770546}, {'head_pos': [5, 7], 'tail_pos': [17, 18], 'head_text': ['Hakawati', 'Theatre'], 'tail_text': ['Palestinians'], 'label': 'Live_In', 'score': 0.010611191391944885}, {'head_pos': [8, 9], 'tail_pos': [5, 7], 'head_text': ['Arab'], 'tail_text': ['Hakawati', 'Theatre'], 'label': 'OrgBased_In', 'score': 0.010405220091342926}, {'head_pos': [17, 18], 'tail_pos': [5, 7], 'head_text': ['Palestinians'], 'tail_text': ['Hakawati', 'Theatre'], 'label': 'Work_For', 'score': 0.009350000880658627}, {'head_pos': [10, 11], 'tail_pos': [17, 18], 'head_text': ['Jerusalem'], 'tail_text': ['Palestinians'], 'label': 'OrgBased_In', 'score': 0.008380397222936153}, {'head_pos': [10, 11], 'tail_pos': [5, 7], 'head_text': ['Jerusalem'], 'tail_text': ['Hakawati', 'Theatre'], 'label': 'OrgBased_In', 'score': 0.00833500549197197}, {'head_pos': [5, 7], 'tail_pos': [17, 18], 'head_text': ['Hakawati', 'Theatre'], 'tail_text': ['Palestinians'], 'label': 'Located_In', 'score': 0.006908053532242775}, {'head_pos': [5, 7], 'tail_pos': [8, 9], 'head_text': ['Hakawati', 'Theatre'], 'tail_text': ['Arab'], 'label': 'Work_For', 'score': 0.0069000073708593845}, {'head_pos': [5, 7], 'tail_pos': [17, 18], 'head_text': ['Hakawati', 'Theatre'], 'tail_text': ['Palestinians'], 'label': 'Work_For', 'score': 0.006653543561697006}, {'head_pos': [8, 9], 'tail_pos': [5, 7], 'head_text': ['Arab'], 'tail_text': ['Hakawati', 'Theatre'], 'label': 'Work_For', 'score': 0.006622381508350372}, {'head_pos': [10, 11], 'tail_pos': [8, 9], 'head_text': ['Jerusalem'], 'tail_text': ['Arab'], 'label': 'Kill', 'score': 0.004577741026878357}, {'head_pos': [5, 7], 'tail_pos': [8, 9], 'head_text': ['Hakawati', 'Theatre'], 'tail_text': ['Arab'], 'label': 'Kill', 'score': 0.004542194306850433}, {'head_pos': [10, 11], 'tail_pos': [17, 18], 'head_text': ['Jerusalem'], 'tail_text': ['Palestinians'], 'label': 'Work_For', 'score': 0.004407442640513182}, {'head_pos': [17, 18], 'tail_pos': [10, 11], 'head_text': ['Palestinians'], 'tail_text': ['Jerusalem'], 'label': 'Work_For', 'score': 0.004268885124474764}, {'head_pos': [8, 9], 'tail_pos': [10, 11], 'head_text': ['Arab'], 'tail_text': ['Jerusalem'], 'label': 'Kill', 'score': 0.00377658661454916}, {'head_pos': [17, 18], 'tail_pos': [5, 7], 'head_text': ['Palestinians'], 'tail_text': ['Hakawati', 'Theatre'], 'label': 'OrgBased_In', 'score': 0.0037306728772819042}, {'head_pos': [8, 9], 'tail_pos': [5, 7], 'head_text': ['Arab'], 'tail_text': ['Hakawati', 'Theatre'], 'label': 'Kill', 'score': 0.003365817479789257}, {'head_pos': [5, 7], 'tail_pos': [17, 18], 'head_text': ['Hakawati', 'Theatre'], 'tail_text': ['Palestinians'], 'label': 'OrgBased_In', 'score': 0.0026745253708213568}, {'head_pos': [10, 11], 'tail_pos': [8, 9], 'head_text': ['Jerusalem'], 'tail_text': ['Arab'], 'label': 'Work_For', 'score': 0.0021321256645023823}, {'head_pos': [8, 9], 'tail_pos': [10, 11], 'head_text': ['Arab'], 'tail_text': ['Jerusalem'], 'label': 'Work_For', 'score': 0.0020232207607477903}, {'head_pos': [10, 11], 'tail_pos': [5, 7], 'head_text': ['Jerusalem'], 'tail_text': ['Hakawati', 'Theatre'], 'label': 'Work_For', 'score': 0.0016010298859328032}, {'head_pos': [10, 11], 'tail_pos': [5, 7], 'head_text': ['Jerusalem'], 'tail_text': ['Hakawati', 'Theatre'], 'label': 'Kill', 'score': 0.0013343557948246598}, {'head_pos': [8, 9], 'tail_pos': [17, 18], 'head_text': ['Arab'], 'tail_text': ['Palestinians'], 'label': 'Kill', 'score': 0.001238370779901743}, {'head_pos': [5, 7], 'tail_pos': [10, 11], 'head_text': ['Hakawati', 'Theatre'], 'tail_text': ['Jerusalem'], 'label': 'Work_For', 'score': 0.0011876662028953433}, {'head_pos': [17, 18], 'tail_pos': [8, 9], 'head_text': ['Palestinians'], 'tail_text': ['Arab'], 'label': 'Kill', 'score': 0.001094776438549161}, {'head_pos': [5, 7], 'tail_pos': [10, 11], 'head_text': ['Hakawati', 'Theatre'], 'tail_text': ['Jerusalem'], 'label': 'Kill', 'score': 0.0009065121412277222}, {'head_pos': [17, 18], 'tail_pos': [8, 9], 'head_text': ['Palestinians'], 'tail_text': ['Arab'], 'label': 'Live_In', 'score': 0.0002785002870950848}, {'head_pos': [17, 18], 'tail_pos': [8, 9], 'head_text': ['Palestinians'], 'tail_text': ['Arab'], 'label': 'Located_In', 'score': 0.0001297694689128548}, {'head_pos': [8, 9], 'tail_pos': [17, 18], 'head_text': ['Arab'], 'tail_text': ['Palestinians'], 'label': 'Live_In', 'score': 5.36182924406603e-05}, {'head_pos': [17, 18], 'tail_pos': [8, 9], 'head_text': ['Palestinians'], 'tail_text': ['Arab'], 'label': 'OrgBased_In', 'score': 3.2403193472418934e-05}, {'head_pos': [17, 18], 'tail_pos': [8, 9], 'head_text': ['Palestinians'], 'tail_text': ['Arab'], 'label': 'Work_For', 'score': 2.9181956051615998e-05}, {'head_pos': [8, 9], 'tail_pos': [17, 18], 'head_text': ['Arab'], 'tail_text': ['Palestinians'], 'label': 'Located_In', 'score': 2.114552989951335e-05}, {'head_pos': [8, 9], 'tail_pos': [17, 18], 'head_text': ['Arab'], 'tail_text': ['Palestinians'], 'label': 'Work_For', 'score': 1.3739881069341209e-05}, {'head_pos': [8, 9], 'tail_pos': [17, 18], 'head_text': ['Arab'], 'tail_text': ['Palestinians'], 'label': 'OrgBased_In', 'score': 6.027474228176288e-06}]\n"
     ]
    }
   ],
   "source": [
    "print(conll_predictions[0])"
   ]
  },
  {
   "cell_type": "markdown",
   "id": "e9f2c13e",
   "metadata": {},
   "source": [
    "### Evaluation"
   ]
  },
  {
   "cell_type": "code",
   "execution_count": null,
   "id": "66348ad9",
   "metadata": {},
   "outputs": [],
   "source": [
    "def evaluate_conll(dataset, predictions, threshold=0.5):\n",
    "    assert len(dataset) == len(predictions)\n",
    "\n",
    "    tp = fp = fn = 0\n",
    "\n",
    "    for example, preds in zip(dataset, predictions):\n",
    "        gold = example[\"gold_relations\"]\n",
    "\n",
    "        pred = set()\n",
    "        for rel in preds:\n",
    "            if rel[\"score\"] < threshold:\n",
    "                continue\n",
    "            pred.add((tuple(rel[\"head_pos\"]), tuple(rel[\"tail_pos\"]), rel[\"label\"]))\n",
    "\n",
    "        tp += len(pred & gold)\n",
    "        fp += len(pred - gold)\n",
    "        fn += len(gold - pred)\n",
    "\n",
    "    precision = tp / (tp + fp + 1e-8)\n",
    "    recall = tp / (tp + fn + 1e-8)\n",
    "    f1 = 2 * precision * recall / (precision + recall + 1e-8)\n",
    "\n",
    "    return {\n",
    "        \"precision\": round(precision, 4),\n",
    "        \"recall\": round(recall, 4),\n",
    "        \"f1\": round(f1, 4),\n",
    "        \"TP\": tp,\n",
    "        \"FP\": fp,\n",
    "        \"FN\": fn\n",
    "    }"
   ]
  },
  {
   "cell_type": "code",
   "execution_count": null,
   "id": "387895de",
   "metadata": {},
   "outputs": [
    {
     "name": "stdout",
     "output_type": "stream",
     "text": [
      "Conll Evaluation Results:\n",
      "precision: 0.1524\n",
      "recall: 0.2441\n",
      "f1: 0.1876\n",
      "TP: 103\n",
      "FP: 573\n",
      "FN: 319\n"
     ]
    }
   ],
   "source": [
    "results_conll = evaluate_conll(conll_input, conll_predictions, threshold=0.3)\n",
    "\n",
    "print(\"Conll Evaluation Results:\")\n",
    "for key, value in results_conll.items():\n",
    "    print(f\"{key}: {value:.4f}\" if isinstance(value, float) else f\"{key}: {value}\")"
   ]
  },
  {
   "cell_type": "markdown",
   "id": "1bf11bf1",
   "metadata": {},
   "source": [
    "### Fuzzy Evaluation"
   ]
  },
  {
   "cell_type": "code",
   "execution_count": null,
   "id": "45a72cd4",
   "metadata": {},
   "outputs": [],
   "source": [
    "def evaluate_conll_fuzzy(dataset, predictions, threshold=0.5):\n",
    "    assert len(dataset) == len(predictions)\n",
    "\n",
    "    tp = fp = fn = 0\n",
    "\n",
    "    for example, preds in zip(dataset, predictions):\n",
    "        gold = example[\"gold_relations\"]\n",
    "        gold_set = set()\n",
    "        for rel in gold:\n",
    "            label = 'Located_In' if rel[2] == 'OrgBased_In' else rel[2]\n",
    "            gold_set.add((tuple(rel[0]), tuple(rel[1]), label))\n",
    "\n",
    "        pred_set = set()\n",
    "        for rel in preds:\n",
    "            if rel[\"score\"] < threshold:\n",
    "                continue\n",
    "            label = 'Located_In' if rel[\"label\"] == 'OrgBased_In' else rel[\"label\"]\n",
    "            pred_set.add((tuple(rel[\"head_pos\"]), tuple(rel[\"tail_pos\"]), label))\n",
    "\n",
    "        tp += len(pred_set & gold_set)\n",
    "        fp += len(pred_set - gold_set)\n",
    "        fn += len(gold_set - pred_set)\n",
    "\n",
    "    precision = tp / (tp + fp + 1e-8)\n",
    "    recall = tp / (tp + fn + 1e-8)\n",
    "    f1 = 2 * precision * recall / (precision + recall + 1e-8)\n",
    "\n",
    "    return {\n",
    "        \"precision\": round(precision, 4),\n",
    "        \"recall\": round(recall, 4),\n",
    "        \"f1\": round(f1, 4),\n",
    "        \"TP\": tp,\n",
    "        \"FP\": fp,\n",
    "        \"FN\": fn\n",
    "    }"
   ]
  },
  {
   "cell_type": "code",
   "execution_count": null,
   "id": "b35ff26e",
   "metadata": {},
   "outputs": [
    {
     "name": "stdout",
     "output_type": "stream",
     "text": [
      "Conll Fuzzy Evaluation Results:\n",
      "precision: 0.2751\n",
      "recall: 0.4408\n",
      "f1: 0.3388\n",
      "TP: 186\n",
      "FP: 490\n",
      "FN: 236\n"
     ]
    }
   ],
   "source": [
    "conll_results_fuzzy = evaluate_conll_fuzzy(conll_input, conll_predictions, threshold=0.3)\n",
    "\n",
    "print(\"Conll Fuzzy Evaluation Results:\")\n",
    "for key, value in conll_results_fuzzy.items():\n",
    "    print(f\"{key}: {value:.4f}\" if isinstance(value, float) else f\"{key}: {value}\")"
   ]
  }
 ],
 "metadata": {
  "language_info": {
   "name": "python"
  }
 },
 "nbformat": 4,
 "nbformat_minor": 5
}
