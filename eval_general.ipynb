{
 "cells": [
  {
   "cell_type": "markdown",
   "id": "1b6ebf87",
   "metadata": {},
   "source": [
    "# GLiREL RE Evaluation on Common Datasets"
   ]
  },
  {
   "cell_type": "code",
   "execution_count": 31,
   "id": "ca9c78ca",
   "metadata": {},
   "outputs": [],
   "source": [
    "from pprint import pprint\n",
    "from glirel import GLiREL\n",
    "import spacy\n",
    "import torch\n",
    "from data_processing.common import load_jsonl, save_jsonl, run_inference"
   ]
  },
  {
   "cell_type": "code",
   "execution_count": 30,
   "id": "14b27e25",
   "metadata": {},
   "outputs": [
    {
     "data": {
      "text/plain": [
       "<module 'data_processing.common' from '/home/bt19d200/Ayaan/DDP-Baseline/data_processing/common.py'>"
      ]
     },
     "execution_count": 30,
     "metadata": {},
     "output_type": "execute_result"
    }
   ],
   "source": [
    "import importlib\n",
    "import data_processing.common\n",
    "\n",
    "importlib.reload(data_processing.common)"
   ]
  },
  {
   "cell_type": "markdown",
   "id": "16b2a3da",
   "metadata": {},
   "source": [
    "Load models"
   ]
  },
  {
   "cell_type": "code",
   "execution_count": 3,
   "id": "e45becb6",
   "metadata": {},
   "outputs": [
    {
     "name": "stderr",
     "output_type": "stream",
     "text": [
      "/home/bt19d200/Ayaan/DDP-Baseline/glirel-env/lib/python3.13/site-packages/transformers/convert_slow_tokenizer.py:564: UserWarning: The sentencepiece tokenizer that you are converting to a fast tokenizer uses the byte fallback option which is not implemented in the fast tokenizers. In practice this means that the fast version of the tokenizer can produce unknown tokens whereas the sentencepiece version would have converted these unknown tokens into a sequence of byte tokens matching the original piece of text.\n",
      "  warnings.warn(\n"
     ]
    }
   ],
   "source": [
    "model = GLiREL.from_pretrained(\"jackboyla/glirel-large-v0\", use_fast=False)\n",
    "nlp = spacy.load(\"en_core_web_sm\")"
   ]
  },
  {
   "cell_type": "markdown",
   "id": "04ade31d",
   "metadata": {},
   "source": [
    "Check model device and move to gpu if not already using it"
   ]
  },
  {
   "cell_type": "code",
   "execution_count": 7,
   "id": "3434646e",
   "metadata": {},
   "outputs": [
    {
     "name": "stdout",
     "output_type": "stream",
     "text": [
      "Model device: cpu\n"
     ]
    }
   ],
   "source": [
    "print(f\"Model device: {model.device}\")"
   ]
  },
  {
   "cell_type": "code",
   "execution_count": 8,
   "id": "fa123a44",
   "metadata": {},
   "outputs": [
    {
     "name": "stdout",
     "output_type": "stream",
     "text": [
      "Model moved to GPU. New device: cuda\n"
     ]
    }
   ],
   "source": [
    "if torch.cuda.is_available():\n",
    "    model.to('cuda')\n",
    "    print(f\"Model moved to GPU. New device: {model.device}\")"
   ]
  },
  {
   "cell_type": "markdown",
   "id": "bddfe680",
   "metadata": {},
   "source": [
    "## NYT"
   ]
  },
  {
   "cell_type": "markdown",
   "id": "a9fc9472",
   "metadata": {},
   "source": [
    "#### Create test dataset"
   ]
  },
  {
   "cell_type": "code",
   "execution_count": null,
   "id": "4ce4aa33",
   "metadata": {},
   "outputs": [],
   "source": [
    "# import random\n",
    "\n",
    "# full_data = load_jsonl(\"data/nyt_data.jsonl\")\n",
    "\n",
    "# # Shuffle for randomness\n",
    "# random.seed(42)\n",
    "# random.shuffle(full_data)\n",
    "\n",
    "# # Take 10% as test data\n",
    "# test_size = int(0.10 * len(full_data))\n",
    "# test_data = full_data[:test_size]\n",
    "\n",
    "# # Save to new file\n",
    "# save_jsonl(test_data, \"data/nyt_test_10pct.jsonl\")\n",
    "\n",
    "# print(f\"Saved {len(test_data)} samples to 'data/nyt_test_10pct.jsonl'\")"
   ]
  },
  {
   "cell_type": "markdown",
   "id": "5179a92f",
   "metadata": {},
   "source": [
    "### Data Preprocessing"
   ]
  },
  {
   "cell_type": "code",
   "execution_count": null,
   "id": "ad2f0a51",
   "metadata": {},
   "outputs": [],
   "source": [
    "from data_processing.nyt import get_nyt_labels, create_nyt_input, evaluate_nyt"
   ]
  },
  {
   "cell_type": "markdown",
   "id": "2c84c63f",
   "metadata": {},
   "source": [
    "Load data"
   ]
  },
  {
   "cell_type": "code",
   "execution_count": 9,
   "id": "c8b46eb4",
   "metadata": {},
   "outputs": [],
   "source": [
    "nyt_data = load_jsonl(\"data/nyt_test_10pct.jsonl\")"
   ]
  },
  {
   "cell_type": "markdown",
   "id": "40dba9be",
   "metadata": {},
   "source": [
    "Check data format"
   ]
  },
  {
   "cell_type": "code",
   "execution_count": 11,
   "id": "50ce63a2",
   "metadata": {},
   "outputs": [
    {
     "name": "stdout",
     "output_type": "stream",
     "text": [
      "{'ner': [[7, 9, 'LOCATION', 'New Jersey'], [0, 1, 'LOCATION', 'Englewood']],\n",
      " 'relations': [{'head': {'mention': 'New Jersey',\n",
      "                         'position': [7, 9],\n",
      "                         'type': 'LOCATION'},\n",
      "                'relation_text': 'contains',\n",
      "                'tail': {'mention': 'Englewood',\n",
      "                         'position': [0, 1],\n",
      "                         'type': 'LOCATION'}}],\n",
      " 'tokenized_text': ['Englewood',\n",
      "                    'is',\n",
      "                    'one',\n",
      "                    'of',\n",
      "                    'nine',\n",
      "                    'hospitals',\n",
      "                    'in',\n",
      "                    'New',\n",
      "                    'Jersey',\n",
      "                    'where',\n",
      "                    'the',\n",
      "                    'nurses',\n",
      "                    'voted',\n",
      "                    'last',\n",
      "                    'month',\n",
      "                    'to',\n",
      "                    'authorize',\n",
      "                    'a',\n",
      "                    'strike',\n",
      "                    'if',\n",
      "                    'the',\n",
      "                    'contract',\n",
      "                    'dispute',\n",
      "                    'was',\n",
      "                    'not',\n",
      "                    'settled',\n",
      "                    'by',\n",
      "                    'June',\n",
      "                    '1',\n",
      "                    ',',\n",
      "                    'but',\n",
      "                    'the',\n",
      "                    'other',\n",
      "                    'hospitals',\n",
      "                    'either',\n",
      "                    'reached',\n",
      "                    'agreements',\n",
      "                    'or',\n",
      "                    'are',\n",
      "                    'still',\n",
      "                    'negotiating',\n",
      "                    '.']}\n"
     ]
    }
   ],
   "source": [
    "example = nyt_data[0]\n",
    "\n",
    "pprint(example)"
   ]
  },
  {
   "cell_type": "markdown",
   "id": "7fdf4117",
   "metadata": {},
   "source": [
    "Get and view relation labels in the nyt dataset:"
   ]
  },
  {
   "cell_type": "code",
   "execution_count": 14,
   "id": "c2950f20",
   "metadata": {},
   "outputs": [
    {
     "name": "stdout",
     "output_type": "stream",
     "text": [
      "Relation Labels: ['administrative_divisions', 'advisors', 'capital', 'children', 'company', 'contains', 'country', 'ethnicity', 'founders', 'geographic_distribution', 'location', 'major_shareholder_of', 'major_shareholders', 'nationality', 'neighborhood_of', 'people', 'place_founded', 'place_lived', 'place_of_birth', 'place_of_death', 'religion', 'teams']\n",
      "Number of Relation Labels: 22\n"
     ]
    }
   ],
   "source": [
    "nyt_labels = get_nyt_labels(nyt_data)\n",
    "\n",
    "print(\"Relation Labels:\", nyt_labels)\n",
    "print(\"Number of Relation Labels:\", len(nyt_labels))"
   ]
  },
  {
   "cell_type": "markdown",
   "id": "3683ac53",
   "metadata": {},
   "source": [
    "Convert nyt data to glirel input format and verify the format"
   ]
  },
  {
   "cell_type": "code",
   "execution_count": 16,
   "id": "162d7d89",
   "metadata": {},
   "outputs": [
    {
     "name": "stdout",
     "output_type": "stream",
     "text": [
      "{'ner': [[7, 8, 'LOCATION', 'New Jersey'], [0, 0, 'LOCATION', 'Englewood']],\n",
      " 'tokens': ['Englewood',\n",
      "            'is',\n",
      "            'one',\n",
      "            'of',\n",
      "            'nine',\n",
      "            'hospitals',\n",
      "            'in',\n",
      "            'New',\n",
      "            'Jersey',\n",
      "            'where',\n",
      "            'the',\n",
      "            'nurses',\n",
      "            'voted',\n",
      "            'last',\n",
      "            'month',\n",
      "            'to',\n",
      "            'authorize',\n",
      "            'a',\n",
      "            'strike',\n",
      "            'if',\n",
      "            'the',\n",
      "            'contract',\n",
      "            'dispute',\n",
      "            'was',\n",
      "            'not',\n",
      "            'settled',\n",
      "            'by',\n",
      "            'June',\n",
      "            '1',\n",
      "            ',',\n",
      "            'but',\n",
      "            'the',\n",
      "            'other',\n",
      "            'hospitals',\n",
      "            'either',\n",
      "            'reached',\n",
      "            'agreements',\n",
      "            'or',\n",
      "            'are',\n",
      "            'still',\n",
      "            'negotiating',\n",
      "            '.']}\n"
     ]
    }
   ],
   "source": [
    "nyt_input = [create_nyt_input(example) for example in nyt_data]\n",
    "\n",
    "nyt_example = nyt_input[0]\n",
    "\n",
    "pprint(nyt_example)"
   ]
  },
  {
   "cell_type": "markdown",
   "id": "c9679d27",
   "metadata": {},
   "source": [
    "### Example Testing"
   ]
  },
  {
   "cell_type": "code",
   "execution_count": 17,
   "id": "ba05bea7",
   "metadata": {},
   "outputs": [],
   "source": [
    "nyt_tokens = nyt_example[\"tokens\"]\n",
    "nyt_ner = nyt_example[\"ner\"]"
   ]
  },
  {
   "cell_type": "code",
   "execution_count": 18,
   "id": "82262c01",
   "metadata": {},
   "outputs": [
    {
     "name": "stdout",
     "output_type": "stream",
     "text": [
      "[{'head_pos': [0, 1],\n",
      "  'head_text': ['Englewood'],\n",
      "  'label': 'location',\n",
      "  'score': 0.5665032267570496,\n",
      "  'tail_pos': [7, 9],\n",
      "  'tail_text': ['New', 'Jersey']},\n",
      " {'head_pos': [7, 9],\n",
      "  'head_text': ['New', 'Jersey'],\n",
      "  'label': 'location',\n",
      "  'score': 0.43044036626815796,\n",
      "  'tail_pos': [0, 1],\n",
      "  'tail_text': ['Englewood']},\n",
      " {'head_pos': [0, 1],\n",
      "  'head_text': ['Englewood'],\n",
      "  'label': 'contains',\n",
      "  'score': 0.10872403532266617,\n",
      "  'tail_pos': [7, 9],\n",
      "  'tail_text': ['New', 'Jersey']},\n",
      " {'head_pos': [7, 9],\n",
      "  'head_text': ['New', 'Jersey'],\n",
      "  'label': 'contains',\n",
      "  'score': 0.0758998841047287,\n",
      "  'tail_pos': [0, 1],\n",
      "  'tail_text': ['Englewood']},\n",
      " {'head_pos': [7, 9],\n",
      "  'head_text': ['New', 'Jersey'],\n",
      "  'label': 'place_of_birth',\n",
      "  'score': 0.04050888493657112,\n",
      "  'tail_pos': [0, 1],\n",
      "  'tail_text': ['Englewood']},\n",
      " {'head_pos': [7, 9],\n",
      "  'head_text': ['New', 'Jersey'],\n",
      "  'label': 'neighborhood_of',\n",
      "  'score': 0.03361096605658531,\n",
      "  'tail_pos': [0, 1],\n",
      "  'tail_text': ['Englewood']},\n",
      " {'head_pos': [0, 1],\n",
      "  'head_text': ['Englewood'],\n",
      "  'label': 'place_of_birth',\n",
      "  'score': 0.030105333775281906,\n",
      "  'tail_pos': [7, 9],\n",
      "  'tail_text': ['New', 'Jersey']},\n",
      " {'head_pos': [0, 1],\n",
      "  'head_text': ['Englewood'],\n",
      "  'label': 'neighborhood_of',\n",
      "  'score': 0.02842913754284382,\n",
      "  'tail_pos': [7, 9],\n",
      "  'tail_text': ['New', 'Jersey']},\n",
      " {'head_pos': [0, 1],\n",
      "  'head_text': ['Englewood'],\n",
      "  'label': 'country',\n",
      "  'score': 0.027949493378400803,\n",
      "  'tail_pos': [7, 9],\n",
      "  'tail_text': ['New', 'Jersey']},\n",
      " {'head_pos': [7, 9],\n",
      "  'head_text': ['New', 'Jersey'],\n",
      "  'label': 'place_of_death',\n",
      "  'score': 0.02702171728014946,\n",
      "  'tail_pos': [0, 1],\n",
      "  'tail_text': ['Englewood']},\n",
      " {'head_pos': [0, 1],\n",
      "  'head_text': ['Englewood'],\n",
      "  'label': 'place_of_death',\n",
      "  'score': 0.02045697718858719,\n",
      "  'tail_pos': [7, 9],\n",
      "  'tail_text': ['New', 'Jersey']},\n",
      " {'head_pos': [7, 9],\n",
      "  'head_text': ['New', 'Jersey'],\n",
      "  'label': 'country',\n",
      "  'score': 0.01780642382800579,\n",
      "  'tail_pos': [0, 1],\n",
      "  'tail_text': ['Englewood']},\n",
      " {'head_pos': [7, 9],\n",
      "  'head_text': ['New', 'Jersey'],\n",
      "  'label': 'place_founded',\n",
      "  'score': 0.014197536744177341,\n",
      "  'tail_pos': [0, 1],\n",
      "  'tail_text': ['Englewood']},\n",
      " {'head_pos': [0, 1],\n",
      "  'head_text': ['Englewood'],\n",
      "  'label': 'place_founded',\n",
      "  'score': 0.01365743950009346,\n",
      "  'tail_pos': [7, 9],\n",
      "  'tail_text': ['New', 'Jersey']},\n",
      " {'head_pos': [7, 9],\n",
      "  'head_text': ['New', 'Jersey'],\n",
      "  'label': 'place_lived',\n",
      "  'score': 0.012943883426487446,\n",
      "  'tail_pos': [0, 1],\n",
      "  'tail_text': ['Englewood']},\n",
      " {'head_pos': [0, 1],\n",
      "  'head_text': ['Englewood'],\n",
      "  'label': 'place_lived',\n",
      "  'score': 0.011848888359963894,\n",
      "  'tail_pos': [7, 9],\n",
      "  'tail_text': ['New', 'Jersey']},\n",
      " {'head_pos': [7, 9],\n",
      "  'head_text': ['New', 'Jersey'],\n",
      "  'label': 'geographic_distribution',\n",
      "  'score': 0.011013040319085121,\n",
      "  'tail_pos': [0, 1],\n",
      "  'tail_text': ['Englewood']},\n",
      " {'head_pos': [0, 1],\n",
      "  'head_text': ['Englewood'],\n",
      "  'label': 'geographic_distribution',\n",
      "  'score': 0.009570828638970852,\n",
      "  'tail_pos': [7, 9],\n",
      "  'tail_text': ['New', 'Jersey']},\n",
      " {'head_pos': [7, 9],\n",
      "  'head_text': ['New', 'Jersey'],\n",
      "  'label': 'nationality',\n",
      "  'score': 0.006068133749067783,\n",
      "  'tail_pos': [0, 1],\n",
      "  'tail_text': ['Englewood']},\n",
      " {'head_pos': [0, 1],\n",
      "  'head_text': ['Englewood'],\n",
      "  'label': 'nationality',\n",
      "  'score': 0.004981014411896467,\n",
      "  'tail_pos': [7, 9],\n",
      "  'tail_text': ['New', 'Jersey']},\n",
      " {'head_pos': [0, 1],\n",
      "  'head_text': ['Englewood'],\n",
      "  'label': 'administrative_divisions',\n",
      "  'score': 0.0026599979028105736,\n",
      "  'tail_pos': [7, 9],\n",
      "  'tail_text': ['New', 'Jersey']},\n",
      " {'head_pos': [7, 9],\n",
      "  'head_text': ['New', 'Jersey'],\n",
      "  'label': 'administrative_divisions',\n",
      "  'score': 0.0025894849095493555,\n",
      "  'tail_pos': [0, 1],\n",
      "  'tail_text': ['Englewood']},\n",
      " {'head_pos': [7, 9],\n",
      "  'head_text': ['New', 'Jersey'],\n",
      "  'label': 'people',\n",
      "  'score': 0.00200222572311759,\n",
      "  'tail_pos': [0, 1],\n",
      "  'tail_text': ['Englewood']},\n",
      " {'head_pos': [0, 1],\n",
      "  'head_text': ['Englewood'],\n",
      "  'label': 'people',\n",
      "  'score': 0.0013671335764229298,\n",
      "  'tail_pos': [7, 9],\n",
      "  'tail_text': ['New', 'Jersey']},\n",
      " {'head_pos': [7, 9],\n",
      "  'head_text': ['New', 'Jersey'],\n",
      "  'label': 'ethnicity',\n",
      "  'score': 0.0012838696129620075,\n",
      "  'tail_pos': [0, 1],\n",
      "  'tail_text': ['Englewood']},\n",
      " {'head_pos': [0, 1],\n",
      "  'head_text': ['Englewood'],\n",
      "  'label': 'ethnicity',\n",
      "  'score': 0.0010913241421803832,\n",
      "  'tail_pos': [7, 9],\n",
      "  'tail_text': ['New', 'Jersey']},\n",
      " {'head_pos': [7, 9],\n",
      "  'head_text': ['New', 'Jersey'],\n",
      "  'label': 'founders',\n",
      "  'score': 0.0010553487809374928,\n",
      "  'tail_pos': [0, 1],\n",
      "  'tail_text': ['Englewood']},\n",
      " {'head_pos': [0, 1],\n",
      "  'head_text': ['Englewood'],\n",
      "  'label': 'founders',\n",
      "  'score': 0.0008261091425083578,\n",
      "  'tail_pos': [7, 9],\n",
      "  'tail_text': ['New', 'Jersey']},\n",
      " {'head_pos': [7, 9],\n",
      "  'head_text': ['New', 'Jersey'],\n",
      "  'label': 'religion',\n",
      "  'score': 0.0007456639432348311,\n",
      "  'tail_pos': [0, 1],\n",
      "  'tail_text': ['Englewood']},\n",
      " {'head_pos': [7, 9],\n",
      "  'head_text': ['New', 'Jersey'],\n",
      "  'label': 'major_shareholders',\n",
      "  'score': 0.0006998255266807973,\n",
      "  'tail_pos': [0, 1],\n",
      "  'tail_text': ['Englewood']},\n",
      " {'head_pos': [0, 1],\n",
      "  'head_text': ['Englewood'],\n",
      "  'label': 'major_shareholders',\n",
      "  'score': 0.0006448722560890019,\n",
      "  'tail_pos': [7, 9],\n",
      "  'tail_text': ['New', 'Jersey']},\n",
      " {'head_pos': [7, 9],\n",
      "  'head_text': ['New', 'Jersey'],\n",
      "  'label': 'company',\n",
      "  'score': 0.0005830425070598722,\n",
      "  'tail_pos': [0, 1],\n",
      "  'tail_text': ['Englewood']},\n",
      " {'head_pos': [0, 1],\n",
      "  'head_text': ['Englewood'],\n",
      "  'label': 'religion',\n",
      "  'score': 0.0005647651851177216,\n",
      "  'tail_pos': [7, 9],\n",
      "  'tail_text': ['New', 'Jersey']},\n",
      " {'head_pos': [7, 9],\n",
      "  'head_text': ['New', 'Jersey'],\n",
      "  'label': 'major_shareholder_of',\n",
      "  'score': 0.0005330715794116259,\n",
      "  'tail_pos': [0, 1],\n",
      "  'tail_text': ['Englewood']},\n",
      " {'head_pos': [0, 1],\n",
      "  'head_text': ['Englewood'],\n",
      "  'label': 'major_shareholder_of',\n",
      "  'score': 0.0005095055676065385,\n",
      "  'tail_pos': [7, 9],\n",
      "  'tail_text': ['New', 'Jersey']},\n",
      " {'head_pos': [0, 1],\n",
      "  'head_text': ['Englewood'],\n",
      "  'label': 'company',\n",
      "  'score': 0.0003991967241745442,\n",
      "  'tail_pos': [7, 9],\n",
      "  'tail_text': ['New', 'Jersey']},\n",
      " {'head_pos': [7, 9],\n",
      "  'head_text': ['New', 'Jersey'],\n",
      "  'label': 'children',\n",
      "  'score': 0.00019991910085082054,\n",
      "  'tail_pos': [0, 1],\n",
      "  'tail_text': ['Englewood']},\n",
      " {'head_pos': [7, 9],\n",
      "  'head_text': ['New', 'Jersey'],\n",
      "  'label': 'teams',\n",
      "  'score': 0.00016320399299729615,\n",
      "  'tail_pos': [0, 1],\n",
      "  'tail_text': ['Englewood']},\n",
      " {'head_pos': [7, 9],\n",
      "  'head_text': ['New', 'Jersey'],\n",
      "  'label': 'capital',\n",
      "  'score': 0.00015981939213816077,\n",
      "  'tail_pos': [0, 1],\n",
      "  'tail_text': ['Englewood']},\n",
      " {'head_pos': [0, 1],\n",
      "  'head_text': ['Englewood'],\n",
      "  'label': 'children',\n",
      "  'score': 0.0001550772722112015,\n",
      "  'tail_pos': [7, 9],\n",
      "  'tail_text': ['New', 'Jersey']},\n",
      " {'head_pos': [0, 1],\n",
      "  'head_text': ['Englewood'],\n",
      "  'label': 'capital',\n",
      "  'score': 0.00014331314014270902,\n",
      "  'tail_pos': [7, 9],\n",
      "  'tail_text': ['New', 'Jersey']},\n",
      " {'head_pos': [0, 1],\n",
      "  'head_text': ['Englewood'],\n",
      "  'label': 'teams',\n",
      "  'score': 0.00011594233365030959,\n",
      "  'tail_pos': [7, 9],\n",
      "  'tail_text': ['New', 'Jersey']},\n",
      " {'head_pos': [7, 9],\n",
      "  'head_text': ['New', 'Jersey'],\n",
      "  'label': 'advisors',\n",
      "  'score': 9.593585855327547e-05,\n",
      "  'tail_pos': [0, 1],\n",
      "  'tail_text': ['Englewood']},\n",
      " {'head_pos': [0, 1],\n",
      "  'head_text': ['Englewood'],\n",
      "  'label': 'advisors',\n",
      "  'score': 5.334889283403754e-05,\n",
      "  'tail_pos': [7, 9],\n",
      "  'tail_text': ['New', 'Jersey']}]\n"
     ]
    }
   ],
   "source": [
    "nyt_relations = model.predict_relations(nyt_tokens, nyt_labels, threshold=0.0, ner=nyt_ner, top_k=len(nyt_labels))\n",
    "\n",
    "pprint(nyt_relations)"
   ]
  },
  {
   "cell_type": "markdown",
   "id": "7b1cc762",
   "metadata": {},
   "source": [
    "### Inference"
   ]
  },
  {
   "cell_type": "markdown",
   "id": "792b2d94",
   "metadata": {},
   "source": [
    "Run inference and collect results"
   ]
  },
  {
   "cell_type": "code",
   "execution_count": 29,
   "id": "a9908d62",
   "metadata": {},
   "outputs": [],
   "source": [
    "nyt_predictions = run_inference(model, nyt_input, nyt_labels, threshold=0.0, top_k=len(nyt_labels))"
   ]
  },
  {
   "cell_type": "markdown",
   "id": "c4c948d1",
   "metadata": {},
   "source": [
    "Save results"
   ]
  },
  {
   "cell_type": "code",
   "execution_count": 33,
   "id": "429bd9c9",
   "metadata": {},
   "outputs": [
    {
     "ename": "OSError",
     "evalue": "[Errno 28] No space left on device",
     "output_type": "error",
     "traceback": [
      "\u001b[31m---------------------------------------------------------------------------\u001b[39m",
      "\u001b[31mOSError\u001b[39m                                   Traceback (most recent call last)",
      "\u001b[36mFile \u001b[39m\u001b[32m~/Ayaan/DDP-Baseline/data_processing/common.py:20\u001b[39m, in \u001b[36msave_jsonl\u001b[39m\u001b[34m(data, path)\u001b[39m\n\u001b[32m     19\u001b[39m \u001b[38;5;28;01mfor\u001b[39;00m item \u001b[38;5;129;01min\u001b[39;00m data:\n\u001b[32m---> \u001b[39m\u001b[32m20\u001b[39m     \u001b[43mf\u001b[49m\u001b[43m.\u001b[49m\u001b[43mwrite\u001b[49m\u001b[43m(\u001b[49m\u001b[43mjson\u001b[49m\u001b[43m.\u001b[49m\u001b[43mdumps\u001b[49m\u001b[43m(\u001b[49m\u001b[43mitem\u001b[49m\u001b[43m)\u001b[49m\u001b[43m \u001b[49m\u001b[43m+\u001b[49m\u001b[43m \u001b[49m\u001b[33;43m'\u001b[39;49m\u001b[38;5;130;43;01m\\n\u001b[39;49;00m\u001b[33;43m'\u001b[39;49m\u001b[43m)\u001b[49m\n",
      "\u001b[31mOSError\u001b[39m: [Errno 28] No space left on device",
      "\nDuring handling of the above exception, another exception occurred:\n",
      "\u001b[31mOSError\u001b[39m                                   Traceback (most recent call last)",
      "\u001b[31mOSError\u001b[39m: [Errno 28] No space left on device",
      "\nDuring handling of the above exception, another exception occurred:\n",
      "\u001b[31mOSError\u001b[39m                                   Traceback (most recent call last)",
      "\u001b[36mCell\u001b[39m\u001b[36m \u001b[39m\u001b[32mIn[33]\u001b[39m\u001b[32m, line 1\u001b[39m\n\u001b[32m----> \u001b[39m\u001b[32m1\u001b[39m \u001b[43msave_jsonl\u001b[49m\u001b[43m(\u001b[49m\u001b[43mnyt_predictions\u001b[49m\u001b[43m,\u001b[49m\u001b[43m \u001b[49m\u001b[33;43m\"\u001b[39;49m\u001b[33;43mdata_predictions/nyt_predictions.jsonl\u001b[39;49m\u001b[33;43m\"\u001b[39;49m\u001b[43m)\u001b[49m\n",
      "\u001b[36mFile \u001b[39m\u001b[32m~/Ayaan/DDP-Baseline/data_processing/common.py:18\u001b[39m, in \u001b[36msave_jsonl\u001b[39m\u001b[34m(data, path)\u001b[39m\n\u001b[32m     17\u001b[39m \u001b[38;5;28;01mdef\u001b[39;00m\u001b[38;5;250m \u001b[39m\u001b[34msave_jsonl\u001b[39m(data, path):\n\u001b[32m---> \u001b[39m\u001b[32m18\u001b[39m     \u001b[38;5;28;01mwith\u001b[39;00m \u001b[38;5;28mopen\u001b[39m(path, \u001b[33m'\u001b[39m\u001b[33mw\u001b[39m\u001b[33m'\u001b[39m, encoding=\u001b[33m'\u001b[39m\u001b[33mutf-8\u001b[39m\u001b[33m'\u001b[39m) \u001b[38;5;28;01mas\u001b[39;00m f:\n\u001b[32m     19\u001b[39m         \u001b[38;5;28;01mfor\u001b[39;00m item \u001b[38;5;129;01min\u001b[39;00m data:\n\u001b[32m     20\u001b[39m             f.write(json.dumps(item) + \u001b[33m'\u001b[39m\u001b[38;5;130;01m\\n\u001b[39;00m\u001b[33m'\u001b[39m)\n",
      "\u001b[31mOSError\u001b[39m: [Errno 28] No space left on device"
     ]
    }
   ],
   "source": [
    "save_jsonl(nyt_predictions, \"data_predictions/nyt_predictions.jsonl\")"
   ]
  },
  {
   "cell_type": "markdown",
   "id": "1c0c95d9",
   "metadata": {},
   "source": [
    "### Evaluation"
   ]
  },
  {
   "cell_type": "markdown",
   "id": "a1785d10",
   "metadata": {},
   "source": [
    "Check results (can vary threshold)"
   ]
  },
  {
   "cell_type": "code",
   "execution_count": 34,
   "id": "bf6948e2",
   "metadata": {},
   "outputs": [
    {
     "name": "stdout",
     "output_type": "stream",
     "text": [
      "The history saving thread hit an unexpected error (OperationalError('database or disk is full')).History will not be written to the database.\n",
      "precision: 0.0951\n",
      "recall: 0.0244\n",
      "f1: 0.0389\n",
      "true_positives: 217\n",
      "false_positives: 2065\n",
      "false_negatives: 8672\n"
     ]
    }
   ],
   "source": [
    "results = evaluate_nyt(nyt_data, nyt_predictions, threshold=0.5)\n",
    "\n",
    "# Print nicely\n",
    "for key, value in results.items():\n",
    "    print(f\"{key}: {value:.4f}\" if isinstance(value, float) else f\"{key}: {value}\")"
   ]
  },
  {
   "cell_type": "markdown",
   "id": "d23231fe",
   "metadata": {},
   "source": [
    "## CoNLL 2004"
   ]
  },
  {
   "cell_type": "code",
   "execution_count": null,
   "id": "069cf6cd",
   "metadata": {},
   "outputs": [],
   "source": [
    "from datasets import load_dataset"
   ]
  },
  {
   "cell_type": "code",
   "execution_count": 57,
   "id": "4a6bd339",
   "metadata": {},
   "outputs": [],
   "source": [
    "import data_processing.conll04\n",
    "importlib.reload(data_processing.conll04)\n",
    "\n",
    "from data_processing.conll04 import get_conll04_labels, create_conll04_input, evaluate_conll04, fuzzy_evaluate_conll04"
   ]
  },
  {
   "cell_type": "markdown",
   "id": "02de54bc",
   "metadata": {},
   "source": [
    "Load dataset and check data format"
   ]
  },
  {
   "cell_type": "code",
   "execution_count": 39,
   "id": "eb9e1a71",
   "metadata": {},
   "outputs": [
    {
     "name": "stdout",
     "output_type": "stream",
     "text": [
      "Dataset({\n",
      "    features: ['entities', 'tokens', 'relations', 'orig_id'],\n",
      "    num_rows: 288\n",
      "})\n",
      "{'entities': [{'end': 7, 'start': 5, 'type': 'Org'},\n",
      "              {'end': 9, 'start': 8, 'type': 'Other'},\n",
      "              {'end': 11, 'start': 10, 'type': 'Loc'},\n",
      "              {'end': 18, 'start': 17, 'type': 'Other'}],\n",
      " 'orig_id': 17,\n",
      " 'relations': [{'head': 0, 'tail': 2, 'type': 'OrgBased_In'}],\n",
      " 'tokens': ['An',\n",
      "            'art',\n",
      "            'exhibit',\n",
      "            'at',\n",
      "            'the',\n",
      "            'Hakawati',\n",
      "            'Theatre',\n",
      "            'in',\n",
      "            'Arab',\n",
      "            'east',\n",
      "            'Jerusalem',\n",
      "            'was',\n",
      "            'a',\n",
      "            'series',\n",
      "            'of',\n",
      "            'portraits',\n",
      "            'of',\n",
      "            'Palestinians',\n",
      "            'killed',\n",
      "            'in',\n",
      "            'the',\n",
      "            'rebellion',\n",
      "            '.']}\n"
     ]
    }
   ],
   "source": [
    "conll04_data = load_dataset(\"DFKI-SLT/conll04\", split=\"test\")\n",
    "\n",
    "print(conll04_data)\n",
    "pprint(conll04_data[0])"
   ]
  },
  {
   "cell_type": "markdown",
   "id": "6ed85143",
   "metadata": {},
   "source": [
    "### Data Pre-processing"
   ]
  },
  {
   "cell_type": "markdown",
   "id": "23511d66",
   "metadata": {},
   "source": [
    "Get conll04 relation labels"
   ]
  },
  {
   "cell_type": "code",
   "execution_count": 48,
   "id": "c69707ef",
   "metadata": {},
   "outputs": [
    {
     "name": "stdout",
     "output_type": "stream",
     "text": [
      "Relation Labels: ['Kill', 'Live_In', 'Located_In', 'OrgBased_In', 'Work_For']\n",
      "Number of Relation Labels: 5\n"
     ]
    }
   ],
   "source": [
    "conll04_labels = get_conll04_labels(conll04_data)\n",
    "print(\"Relation Labels:\", conll04_labels)\n",
    "print(\"Number of Relation Labels:\", len(conll04_labels))"
   ]
  },
  {
   "cell_type": "markdown",
   "id": "e09c0931",
   "metadata": {},
   "source": [
    "Convert conll04 data to glirel input format and verify the format"
   ]
  },
  {
   "cell_type": "code",
   "execution_count": 47,
   "id": "dfacf48d",
   "metadata": {},
   "outputs": [
    {
     "name": "stdout",
     "output_type": "stream",
     "text": [
      "{'ner': [[5, 6, 'Org', 'Hakawati Theatre'],\n",
      "         [8, 8, 'Other', 'Arab'],\n",
      "         [10, 10, 'Loc', 'Jerusalem'],\n",
      "         [17, 17, 'Other', 'Palestinians']],\n",
      " 'tokens': ['An',\n",
      "            'art',\n",
      "            'exhibit',\n",
      "            'at',\n",
      "            'the',\n",
      "            'Hakawati',\n",
      "            'Theatre',\n",
      "            'in',\n",
      "            'Arab',\n",
      "            'east',\n",
      "            'Jerusalem',\n",
      "            'was',\n",
      "            'a',\n",
      "            'series',\n",
      "            'of',\n",
      "            'portraits',\n",
      "            'of',\n",
      "            'Palestinians',\n",
      "            'killed',\n",
      "            'in',\n",
      "            'the',\n",
      "            'rebellion',\n",
      "            '.']}\n"
     ]
    }
   ],
   "source": [
    "conll04_input = [create_conll04_input(example) for example in conll04_data]\n",
    "\n",
    "conll04_example = conll04_input[0]\n",
    "pprint(conll04_example)"
   ]
  },
  {
   "cell_type": "markdown",
   "id": "cb10aefb",
   "metadata": {},
   "source": [
    "### Example Test"
   ]
  },
  {
   "cell_type": "code",
   "execution_count": 49,
   "id": "07cf0eaa",
   "metadata": {},
   "outputs": [],
   "source": [
    "conll04_tokens = conll04_example[\"tokens\"]\n",
    "conll04_ner = conll04_example[\"ner\"]"
   ]
  },
  {
   "cell_type": "code",
   "execution_count": 51,
   "id": "5f79de13",
   "metadata": {},
   "outputs": [
    {
     "name": "stdout",
     "output_type": "stream",
     "text": [
      "Number of relations: 60\n",
      "\n",
      "Descending Order by Score:\n",
      "['Hakawati', 'Theatre'] --> Located_In --> ['Jerusalem'] | score: 0.5305655598640442\n",
      "['Jerusalem'] --> Located_In --> ['Hakawati', 'Theatre'] | score: 0.39677685499191284\n",
      "['Arab'] --> Located_In --> ['Jerusalem'] | score: 0.3937556743621826\n",
      "['Jerusalem'] --> Located_In --> ['Arab'] | score: 0.3288310468196869\n",
      "['Hakawati', 'Theatre'] --> Located_In --> ['Arab'] | score: 0.3207818269729614\n",
      "['Palestinians'] --> Live_In --> ['Jerusalem'] | score: 0.31211718916893005\n",
      "['Arab'] --> Located_In --> ['Hakawati', 'Theatre'] | score: 0.2222864329814911\n",
      "['Palestinians'] --> Located_In --> ['Jerusalem'] | score: 0.21948803961277008\n",
      "['Hakawati', 'Theatre'] --> Kill --> ['Palestinians'] | score: 0.21816208958625793\n",
      "['Jerusalem'] --> Kill --> ['Palestinians'] | score: 0.18330393731594086\n",
      "['Arab'] --> Live_In --> ['Jerusalem'] | score: 0.16216304898262024\n",
      "['Hakawati', 'Theatre'] --> Live_In --> ['Jerusalem'] | score: 0.12686099112033844\n",
      "['Jerusalem'] --> Live_In --> ['Arab'] | score: 0.11657623946666718\n",
      "['Jerusalem'] --> Live_In --> ['Palestinians'] | score: 0.0920630469918251\n",
      "['Palestinians'] --> Kill --> ['Hakawati', 'Theatre'] | score: 0.08419425785541534\n",
      "['Palestinians'] --> Kill --> ['Jerusalem'] | score: 0.05480401590466499\n",
      "['Jerusalem'] --> Live_In --> ['Hakawati', 'Theatre'] | score: 0.05153404176235199\n",
      "['Hakawati', 'Theatre'] --> Live_In --> ['Arab'] | score: 0.05037350207567215\n",
      "['Jerusalem'] --> Located_In --> ['Palestinians'] | score: 0.045327357947826385\n",
      "['Hakawati', 'Theatre'] --> OrgBased_In --> ['Arab'] | score: 0.03697757050395012\n",
      "['Arab'] --> OrgBased_In --> ['Jerusalem'] | score: 0.03166002407670021\n",
      "['Hakawati', 'Theatre'] --> OrgBased_In --> ['Jerusalem'] | score: 0.02859409525990486\n",
      "['Palestinians'] --> OrgBased_In --> ['Jerusalem'] | score: 0.028121203184127808\n",
      "['Jerusalem'] --> OrgBased_In --> ['Arab'] | score: 0.026564694941043854\n",
      "['Palestinians'] --> Located_In --> ['Hakawati', 'Theatre'] | score: 0.02549094706773758\n",
      "['Arab'] --> Live_In --> ['Hakawati', 'Theatre'] | score: 0.022874930873513222\n",
      "['Palestinians'] --> Live_In --> ['Hakawati', 'Theatre'] | score: 0.020872008055448532\n",
      "['Hakawati', 'Theatre'] --> Live_In --> ['Palestinians'] | score: 0.010611141100525856\n",
      "['Arab'] --> OrgBased_In --> ['Hakawati', 'Theatre'] | score: 0.01040524523705244\n",
      "['Palestinians'] --> Work_For --> ['Hakawati', 'Theatre'] | score: 0.009349996224045753\n",
      "['Jerusalem'] --> OrgBased_In --> ['Palestinians'] | score: 0.008380377665162086\n",
      "['Jerusalem'] --> OrgBased_In --> ['Hakawati', 'Theatre'] | score: 0.008335040882229805\n",
      "['Hakawati', 'Theatre'] --> Located_In --> ['Palestinians'] | score: 0.006908010691404343\n",
      "['Hakawati', 'Theatre'] --> Work_For --> ['Arab'] | score: 0.0069000269286334515\n",
      "['Hakawati', 'Theatre'] --> Work_For --> ['Palestinians'] | score: 0.0066535212099552155\n",
      "['Arab'] --> Work_For --> ['Hakawati', 'Theatre'] | score: 0.00662239408120513\n",
      "['Jerusalem'] --> Kill --> ['Arab'] | score: 0.004577745217829943\n",
      "['Hakawati', 'Theatre'] --> Kill --> ['Arab'] | score: 0.004542224574834108\n",
      "['Jerusalem'] --> Work_For --> ['Palestinians'] | score: 0.00440743425861001\n",
      "['Palestinians'] --> Work_For --> ['Jerusalem'] | score: 0.004268880933523178\n",
      "['Arab'] --> Kill --> ['Jerusalem'] | score: 0.0037765884771943092\n",
      "['Palestinians'] --> OrgBased_In --> ['Hakawati', 'Theatre'] | score: 0.003730672411620617\n",
      "['Arab'] --> Kill --> ['Hakawati', 'Theatre'] | score: 0.0033658351749181747\n",
      "['Hakawati', 'Theatre'] --> OrgBased_In --> ['Palestinians'] | score: 0.00267452048137784\n",
      "['Jerusalem'] --> Work_For --> ['Arab'] | score: 0.002132124500349164\n",
      "['Arab'] --> Work_For --> ['Jerusalem'] | score: 0.002023223554715514\n",
      "['Jerusalem'] --> Work_For --> ['Hakawati', 'Theatre'] | score: 0.0016010330291464925\n",
      "['Jerusalem'] --> Kill --> ['Hakawati', 'Theatre'] | score: 0.001334356376901269\n",
      "['Arab'] --> Kill --> ['Palestinians'] | score: 0.001238370779901743\n",
      "['Hakawati', 'Theatre'] --> Work_For --> ['Jerusalem'] | score: 0.0011876719072461128\n",
      "['Palestinians'] --> Kill --> ['Arab'] | score: 0.0010947774862870574\n",
      "['Hakawati', 'Theatre'] --> Kill --> ['Jerusalem'] | score: 0.0009065134800039232\n",
      "['Palestinians'] --> Live_In --> ['Arab'] | score: 0.0002784992102533579\n",
      "['Palestinians'] --> Located_In --> ['Arab'] | score: 0.00012976785365026444\n",
      "['Arab'] --> Live_In --> ['Palestinians'] | score: 5.36178304173518e-05\n",
      "['Palestinians'] --> OrgBased_In --> ['Arab'] | score: 3.2403040677309036e-05\n",
      "['Palestinians'] --> Work_For --> ['Arab'] | score: 2.9181790523580275e-05\n",
      "['Arab'] --> Located_In --> ['Palestinians'] | score: 2.1145324353710748e-05\n",
      "['Arab'] --> Work_For --> ['Palestinians'] | score: 1.3739801033807453e-05\n",
      "['Arab'] --> OrgBased_In --> ['Palestinians'] | score: 6.02743421040941e-06\n"
     ]
    }
   ],
   "source": [
    "conll04_prediction = model.predict_relations(conll04_tokens, labels=conll04_labels, threshold=0.0, ner=conll04_ner, top_k=len(conll04_labels))\n",
    "\n",
    "print('Number of relations:', len(conll04_prediction))\n",
    "\n",
    "sorted_conll_preds = sorted(conll04_prediction, key=lambda x: x['score'], reverse=True)\n",
    "print(\"\\nDescending Order by Score:\")\n",
    "for item in sorted_conll_preds:\n",
    "    print(f\"{item['head_text']} --> {item['label']} --> {item['tail_text']} | score: {item['score']}\")"
   ]
  },
  {
   "cell_type": "markdown",
   "id": "83224c28",
   "metadata": {},
   "source": [
    "### Inference"
   ]
  },
  {
   "cell_type": "markdown",
   "id": "80eddbc2",
   "metadata": {},
   "source": [
    "Run inference on the entire dataset and check output format"
   ]
  },
  {
   "cell_type": "code",
   "execution_count": 52,
   "id": "e613bcca",
   "metadata": {},
   "outputs": [
    {
     "name": "stdout",
     "output_type": "stream",
     "text": [
      "Running inference on device: cuda\n",
      "[{'head_pos': [5, 7],\n",
      "  'head_text': ['Hakawati', 'Theatre'],\n",
      "  'label': 'Located_In',\n",
      "  'score': 0.5305655598640442,\n",
      "  'tail_pos': [10, 11],\n",
      "  'tail_text': ['Jerusalem']},\n",
      " {'head_pos': [10, 11],\n",
      "  'head_text': ['Jerusalem'],\n",
      "  'label': 'Located_In',\n",
      "  'score': 0.39677685499191284,\n",
      "  'tail_pos': [5, 7],\n",
      "  'tail_text': ['Hakawati', 'Theatre']},\n",
      " {'head_pos': [8, 9],\n",
      "  'head_text': ['Arab'],\n",
      "  'label': 'Located_In',\n",
      "  'score': 0.3937556743621826,\n",
      "  'tail_pos': [10, 11],\n",
      "  'tail_text': ['Jerusalem']},\n",
      " {'head_pos': [10, 11],\n",
      "  'head_text': ['Jerusalem'],\n",
      "  'label': 'Located_In',\n",
      "  'score': 0.3288310468196869,\n",
      "  'tail_pos': [8, 9],\n",
      "  'tail_text': ['Arab']},\n",
      " {'head_pos': [5, 7],\n",
      "  'head_text': ['Hakawati', 'Theatre'],\n",
      "  'label': 'Located_In',\n",
      "  'score': 0.3207818269729614,\n",
      "  'tail_pos': [8, 9],\n",
      "  'tail_text': ['Arab']},\n",
      " {'head_pos': [17, 18],\n",
      "  'head_text': ['Palestinians'],\n",
      "  'label': 'Live_In',\n",
      "  'score': 0.31211718916893005,\n",
      "  'tail_pos': [10, 11],\n",
      "  'tail_text': ['Jerusalem']},\n",
      " {'head_pos': [8, 9],\n",
      "  'head_text': ['Arab'],\n",
      "  'label': 'Located_In',\n",
      "  'score': 0.2222864329814911,\n",
      "  'tail_pos': [5, 7],\n",
      "  'tail_text': ['Hakawati', 'Theatre']},\n",
      " {'head_pos': [17, 18],\n",
      "  'head_text': ['Palestinians'],\n",
      "  'label': 'Located_In',\n",
      "  'score': 0.21948803961277008,\n",
      "  'tail_pos': [10, 11],\n",
      "  'tail_text': ['Jerusalem']},\n",
      " {'head_pos': [5, 7],\n",
      "  'head_text': ['Hakawati', 'Theatre'],\n",
      "  'label': 'Kill',\n",
      "  'score': 0.21816208958625793,\n",
      "  'tail_pos': [17, 18],\n",
      "  'tail_text': ['Palestinians']},\n",
      " {'head_pos': [10, 11],\n",
      "  'head_text': ['Jerusalem'],\n",
      "  'label': 'Kill',\n",
      "  'score': 0.18330393731594086,\n",
      "  'tail_pos': [17, 18],\n",
      "  'tail_text': ['Palestinians']},\n",
      " {'head_pos': [8, 9],\n",
      "  'head_text': ['Arab'],\n",
      "  'label': 'Live_In',\n",
      "  'score': 0.16216304898262024,\n",
      "  'tail_pos': [10, 11],\n",
      "  'tail_text': ['Jerusalem']},\n",
      " {'head_pos': [5, 7],\n",
      "  'head_text': ['Hakawati', 'Theatre'],\n",
      "  'label': 'Live_In',\n",
      "  'score': 0.12686099112033844,\n",
      "  'tail_pos': [10, 11],\n",
      "  'tail_text': ['Jerusalem']},\n",
      " {'head_pos': [10, 11],\n",
      "  'head_text': ['Jerusalem'],\n",
      "  'label': 'Live_In',\n",
      "  'score': 0.11657623946666718,\n",
      "  'tail_pos': [8, 9],\n",
      "  'tail_text': ['Arab']},\n",
      " {'head_pos': [10, 11],\n",
      "  'head_text': ['Jerusalem'],\n",
      "  'label': 'Live_In',\n",
      "  'score': 0.0920630469918251,\n",
      "  'tail_pos': [17, 18],\n",
      "  'tail_text': ['Palestinians']},\n",
      " {'head_pos': [17, 18],\n",
      "  'head_text': ['Palestinians'],\n",
      "  'label': 'Kill',\n",
      "  'score': 0.08419425785541534,\n",
      "  'tail_pos': [5, 7],\n",
      "  'tail_text': ['Hakawati', 'Theatre']},\n",
      " {'head_pos': [17, 18],\n",
      "  'head_text': ['Palestinians'],\n",
      "  'label': 'Kill',\n",
      "  'score': 0.05480401590466499,\n",
      "  'tail_pos': [10, 11],\n",
      "  'tail_text': ['Jerusalem']},\n",
      " {'head_pos': [10, 11],\n",
      "  'head_text': ['Jerusalem'],\n",
      "  'label': 'Live_In',\n",
      "  'score': 0.05153404176235199,\n",
      "  'tail_pos': [5, 7],\n",
      "  'tail_text': ['Hakawati', 'Theatre']},\n",
      " {'head_pos': [5, 7],\n",
      "  'head_text': ['Hakawati', 'Theatre'],\n",
      "  'label': 'Live_In',\n",
      "  'score': 0.05037350207567215,\n",
      "  'tail_pos': [8, 9],\n",
      "  'tail_text': ['Arab']},\n",
      " {'head_pos': [10, 11],\n",
      "  'head_text': ['Jerusalem'],\n",
      "  'label': 'Located_In',\n",
      "  'score': 0.045327357947826385,\n",
      "  'tail_pos': [17, 18],\n",
      "  'tail_text': ['Palestinians']},\n",
      " {'head_pos': [5, 7],\n",
      "  'head_text': ['Hakawati', 'Theatre'],\n",
      "  'label': 'OrgBased_In',\n",
      "  'score': 0.03697757050395012,\n",
      "  'tail_pos': [8, 9],\n",
      "  'tail_text': ['Arab']},\n",
      " {'head_pos': [8, 9],\n",
      "  'head_text': ['Arab'],\n",
      "  'label': 'OrgBased_In',\n",
      "  'score': 0.03166002407670021,\n",
      "  'tail_pos': [10, 11],\n",
      "  'tail_text': ['Jerusalem']},\n",
      " {'head_pos': [5, 7],\n",
      "  'head_text': ['Hakawati', 'Theatre'],\n",
      "  'label': 'OrgBased_In',\n",
      "  'score': 0.02859409525990486,\n",
      "  'tail_pos': [10, 11],\n",
      "  'tail_text': ['Jerusalem']},\n",
      " {'head_pos': [17, 18],\n",
      "  'head_text': ['Palestinians'],\n",
      "  'label': 'OrgBased_In',\n",
      "  'score': 0.028121203184127808,\n",
      "  'tail_pos': [10, 11],\n",
      "  'tail_text': ['Jerusalem']},\n",
      " {'head_pos': [10, 11],\n",
      "  'head_text': ['Jerusalem'],\n",
      "  'label': 'OrgBased_In',\n",
      "  'score': 0.026564694941043854,\n",
      "  'tail_pos': [8, 9],\n",
      "  'tail_text': ['Arab']},\n",
      " {'head_pos': [17, 18],\n",
      "  'head_text': ['Palestinians'],\n",
      "  'label': 'Located_In',\n",
      "  'score': 0.02549094706773758,\n",
      "  'tail_pos': [5, 7],\n",
      "  'tail_text': ['Hakawati', 'Theatre']},\n",
      " {'head_pos': [8, 9],\n",
      "  'head_text': ['Arab'],\n",
      "  'label': 'Live_In',\n",
      "  'score': 0.022874930873513222,\n",
      "  'tail_pos': [5, 7],\n",
      "  'tail_text': ['Hakawati', 'Theatre']},\n",
      " {'head_pos': [17, 18],\n",
      "  'head_text': ['Palestinians'],\n",
      "  'label': 'Live_In',\n",
      "  'score': 0.020872008055448532,\n",
      "  'tail_pos': [5, 7],\n",
      "  'tail_text': ['Hakawati', 'Theatre']},\n",
      " {'head_pos': [5, 7],\n",
      "  'head_text': ['Hakawati', 'Theatre'],\n",
      "  'label': 'Live_In',\n",
      "  'score': 0.010611141100525856,\n",
      "  'tail_pos': [17, 18],\n",
      "  'tail_text': ['Palestinians']},\n",
      " {'head_pos': [8, 9],\n",
      "  'head_text': ['Arab'],\n",
      "  'label': 'OrgBased_In',\n",
      "  'score': 0.01040524523705244,\n",
      "  'tail_pos': [5, 7],\n",
      "  'tail_text': ['Hakawati', 'Theatre']},\n",
      " {'head_pos': [17, 18],\n",
      "  'head_text': ['Palestinians'],\n",
      "  'label': 'Work_For',\n",
      "  'score': 0.009349996224045753,\n",
      "  'tail_pos': [5, 7],\n",
      "  'tail_text': ['Hakawati', 'Theatre']},\n",
      " {'head_pos': [10, 11],\n",
      "  'head_text': ['Jerusalem'],\n",
      "  'label': 'OrgBased_In',\n",
      "  'score': 0.008380377665162086,\n",
      "  'tail_pos': [17, 18],\n",
      "  'tail_text': ['Palestinians']},\n",
      " {'head_pos': [10, 11],\n",
      "  'head_text': ['Jerusalem'],\n",
      "  'label': 'OrgBased_In',\n",
      "  'score': 0.008335040882229805,\n",
      "  'tail_pos': [5, 7],\n",
      "  'tail_text': ['Hakawati', 'Theatre']},\n",
      " {'head_pos': [5, 7],\n",
      "  'head_text': ['Hakawati', 'Theatre'],\n",
      "  'label': 'Located_In',\n",
      "  'score': 0.006908010691404343,\n",
      "  'tail_pos': [17, 18],\n",
      "  'tail_text': ['Palestinians']},\n",
      " {'head_pos': [5, 7],\n",
      "  'head_text': ['Hakawati', 'Theatre'],\n",
      "  'label': 'Work_For',\n",
      "  'score': 0.0069000269286334515,\n",
      "  'tail_pos': [8, 9],\n",
      "  'tail_text': ['Arab']},\n",
      " {'head_pos': [5, 7],\n",
      "  'head_text': ['Hakawati', 'Theatre'],\n",
      "  'label': 'Work_For',\n",
      "  'score': 0.0066535212099552155,\n",
      "  'tail_pos': [17, 18],\n",
      "  'tail_text': ['Palestinians']},\n",
      " {'head_pos': [8, 9],\n",
      "  'head_text': ['Arab'],\n",
      "  'label': 'Work_For',\n",
      "  'score': 0.00662239408120513,\n",
      "  'tail_pos': [5, 7],\n",
      "  'tail_text': ['Hakawati', 'Theatre']},\n",
      " {'head_pos': [10, 11],\n",
      "  'head_text': ['Jerusalem'],\n",
      "  'label': 'Kill',\n",
      "  'score': 0.004577745217829943,\n",
      "  'tail_pos': [8, 9],\n",
      "  'tail_text': ['Arab']},\n",
      " {'head_pos': [5, 7],\n",
      "  'head_text': ['Hakawati', 'Theatre'],\n",
      "  'label': 'Kill',\n",
      "  'score': 0.004542224574834108,\n",
      "  'tail_pos': [8, 9],\n",
      "  'tail_text': ['Arab']},\n",
      " {'head_pos': [10, 11],\n",
      "  'head_text': ['Jerusalem'],\n",
      "  'label': 'Work_For',\n",
      "  'score': 0.00440743425861001,\n",
      "  'tail_pos': [17, 18],\n",
      "  'tail_text': ['Palestinians']},\n",
      " {'head_pos': [17, 18],\n",
      "  'head_text': ['Palestinians'],\n",
      "  'label': 'Work_For',\n",
      "  'score': 0.004268880933523178,\n",
      "  'tail_pos': [10, 11],\n",
      "  'tail_text': ['Jerusalem']},\n",
      " {'head_pos': [8, 9],\n",
      "  'head_text': ['Arab'],\n",
      "  'label': 'Kill',\n",
      "  'score': 0.0037765884771943092,\n",
      "  'tail_pos': [10, 11],\n",
      "  'tail_text': ['Jerusalem']},\n",
      " {'head_pos': [17, 18],\n",
      "  'head_text': ['Palestinians'],\n",
      "  'label': 'OrgBased_In',\n",
      "  'score': 0.003730672411620617,\n",
      "  'tail_pos': [5, 7],\n",
      "  'tail_text': ['Hakawati', 'Theatre']},\n",
      " {'head_pos': [8, 9],\n",
      "  'head_text': ['Arab'],\n",
      "  'label': 'Kill',\n",
      "  'score': 0.0033658351749181747,\n",
      "  'tail_pos': [5, 7],\n",
      "  'tail_text': ['Hakawati', 'Theatre']},\n",
      " {'head_pos': [5, 7],\n",
      "  'head_text': ['Hakawati', 'Theatre'],\n",
      "  'label': 'OrgBased_In',\n",
      "  'score': 0.00267452048137784,\n",
      "  'tail_pos': [17, 18],\n",
      "  'tail_text': ['Palestinians']},\n",
      " {'head_pos': [10, 11],\n",
      "  'head_text': ['Jerusalem'],\n",
      "  'label': 'Work_For',\n",
      "  'score': 0.002132124500349164,\n",
      "  'tail_pos': [8, 9],\n",
      "  'tail_text': ['Arab']},\n",
      " {'head_pos': [8, 9],\n",
      "  'head_text': ['Arab'],\n",
      "  'label': 'Work_For',\n",
      "  'score': 0.002023223554715514,\n",
      "  'tail_pos': [10, 11],\n",
      "  'tail_text': ['Jerusalem']},\n",
      " {'head_pos': [10, 11],\n",
      "  'head_text': ['Jerusalem'],\n",
      "  'label': 'Work_For',\n",
      "  'score': 0.0016010330291464925,\n",
      "  'tail_pos': [5, 7],\n",
      "  'tail_text': ['Hakawati', 'Theatre']},\n",
      " {'head_pos': [10, 11],\n",
      "  'head_text': ['Jerusalem'],\n",
      "  'label': 'Kill',\n",
      "  'score': 0.001334356376901269,\n",
      "  'tail_pos': [5, 7],\n",
      "  'tail_text': ['Hakawati', 'Theatre']},\n",
      " {'head_pos': [8, 9],\n",
      "  'head_text': ['Arab'],\n",
      "  'label': 'Kill',\n",
      "  'score': 0.001238370779901743,\n",
      "  'tail_pos': [17, 18],\n",
      "  'tail_text': ['Palestinians']},\n",
      " {'head_pos': [5, 7],\n",
      "  'head_text': ['Hakawati', 'Theatre'],\n",
      "  'label': 'Work_For',\n",
      "  'score': 0.0011876719072461128,\n",
      "  'tail_pos': [10, 11],\n",
      "  'tail_text': ['Jerusalem']},\n",
      " {'head_pos': [17, 18],\n",
      "  'head_text': ['Palestinians'],\n",
      "  'label': 'Kill',\n",
      "  'score': 0.0010947774862870574,\n",
      "  'tail_pos': [8, 9],\n",
      "  'tail_text': ['Arab']},\n",
      " {'head_pos': [5, 7],\n",
      "  'head_text': ['Hakawati', 'Theatre'],\n",
      "  'label': 'Kill',\n",
      "  'score': 0.0009065134800039232,\n",
      "  'tail_pos': [10, 11],\n",
      "  'tail_text': ['Jerusalem']},\n",
      " {'head_pos': [17, 18],\n",
      "  'head_text': ['Palestinians'],\n",
      "  'label': 'Live_In',\n",
      "  'score': 0.0002784992102533579,\n",
      "  'tail_pos': [8, 9],\n",
      "  'tail_text': ['Arab']},\n",
      " {'head_pos': [17, 18],\n",
      "  'head_text': ['Palestinians'],\n",
      "  'label': 'Located_In',\n",
      "  'score': 0.00012976785365026444,\n",
      "  'tail_pos': [8, 9],\n",
      "  'tail_text': ['Arab']},\n",
      " {'head_pos': [8, 9],\n",
      "  'head_text': ['Arab'],\n",
      "  'label': 'Live_In',\n",
      "  'score': 5.36178304173518e-05,\n",
      "  'tail_pos': [17, 18],\n",
      "  'tail_text': ['Palestinians']},\n",
      " {'head_pos': [17, 18],\n",
      "  'head_text': ['Palestinians'],\n",
      "  'label': 'OrgBased_In',\n",
      "  'score': 3.2403040677309036e-05,\n",
      "  'tail_pos': [8, 9],\n",
      "  'tail_text': ['Arab']},\n",
      " {'head_pos': [17, 18],\n",
      "  'head_text': ['Palestinians'],\n",
      "  'label': 'Work_For',\n",
      "  'score': 2.9181790523580275e-05,\n",
      "  'tail_pos': [8, 9],\n",
      "  'tail_text': ['Arab']},\n",
      " {'head_pos': [8, 9],\n",
      "  'head_text': ['Arab'],\n",
      "  'label': 'Located_In',\n",
      "  'score': 2.1145324353710748e-05,\n",
      "  'tail_pos': [17, 18],\n",
      "  'tail_text': ['Palestinians']},\n",
      " {'head_pos': [8, 9],\n",
      "  'head_text': ['Arab'],\n",
      "  'label': 'Work_For',\n",
      "  'score': 1.3739801033807453e-05,\n",
      "  'tail_pos': [17, 18],\n",
      "  'tail_text': ['Palestinians']},\n",
      " {'head_pos': [8, 9],\n",
      "  'head_text': ['Arab'],\n",
      "  'label': 'OrgBased_In',\n",
      "  'score': 6.02743421040941e-06,\n",
      "  'tail_pos': [17, 18],\n",
      "  'tail_text': ['Palestinians']}]\n"
     ]
    }
   ],
   "source": [
    "conll04_predictions = run_inference(model, conll04_input, conll04_labels, threshold=0.0, top_k=len(conll04_labels))\n",
    "\n",
    "pprint(conll04_predictions[0])"
   ]
  },
  {
   "cell_type": "markdown",
   "id": "e9f2c13e",
   "metadata": {},
   "source": [
    "### Evaluation"
   ]
  },
  {
   "cell_type": "code",
   "execution_count": 59,
   "id": "387895de",
   "metadata": {},
   "outputs": [
    {
     "name": "stdout",
     "output_type": "stream",
     "text": [
      "Conll04 Evaluation Results:\n",
      "precision: 0.1286\n",
      "recall: 0.0213\n",
      "f1: 0.0366\n",
      "TP: 9\n",
      "FP: 61\n",
      "FN: 413\n"
     ]
    }
   ],
   "source": [
    "results_conll04 = evaluate_conll04(conll04_data, conll04_predictions, threshold=0.5)\n",
    "\n",
    "print(\"Conll04 Evaluation Results:\")\n",
    "for key, value in results_conll04.items():\n",
    "    print(f\"{key}: {value:.4f}\" if isinstance(value, float) else f\"{key}: {value}\")"
   ]
  },
  {
   "cell_type": "markdown",
   "id": "1bf11bf1",
   "metadata": {},
   "source": [
    "### Fuzzy Evaluation"
   ]
  },
  {
   "cell_type": "code",
   "execution_count": 60,
   "id": "b35ff26e",
   "metadata": {},
   "outputs": [
    {
     "name": "stdout",
     "output_type": "stream",
     "text": [
      "Conll04 Fuzzy Evaluation Results:\n",
      "precision: 0.4714\n",
      "recall: 0.0782\n",
      "f1: 0.1341\n",
      "TP: 33\n",
      "FP: 37\n",
      "FN: 389\n"
     ]
    }
   ],
   "source": [
    "conll_results_fuzzy = evaluate_conll_fuzzy(conll_input, conll_predictions, threshold=0.3)\n",
    "\n",
    "print(\"Conll Fuzzy Evaluation Results:\")\n",
    "for key, value in conll_results_fuzzy.items():\n",
    "    print(f\"{key}: {value:.4f}\" if isinstance(value, float) else f\"{key}: {value}\")"
   ]
  }
 ],
 "metadata": {
  "kernelspec": {
   "display_name": "Python 3",
   "language": "python",
   "name": "python3"
  },
  "language_info": {
   "name": "python",
   "version": "3.13.5"
  }
 },
 "nbformat": 4,
 "nbformat_minor": 5
}
